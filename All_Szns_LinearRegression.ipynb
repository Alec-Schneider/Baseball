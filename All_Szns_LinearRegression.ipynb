{
 "cells": [
  {
   "cell_type": "code",
   "execution_count": 1,
   "metadata": {},
   "outputs": [
    {
     "name": "stdout",
     "output_type": "stream",
     "text": [
      "C:\\Users\\afs95\\MyPython\\Baseball\n"
     ]
    }
   ],
   "source": [
    "%cd C:\\Users\\afs95\\MyPython\\Baseball\n",
    "import numpy as np\n",
    "import pandas as pd\n",
    "import matplotlib.pyplot as plt\n",
    "from bfuncs import clean_pcts\n",
    "%matplotlib inline"
   ]
  },
  {
   "cell_type": "code",
   "execution_count": 2,
   "metadata": {},
   "outputs": [
    {
     "name": "stdout",
     "output_type": "stream",
     "text": [
      "<class 'pandas.core.frame.DataFrame'>\n",
      "RangeIndex: 89884 entries, 0 to 89883\n",
      "Data columns (total 23 columns):\n",
      "Season      89884 non-null int64\n",
      "Name        89830 non-null object\n",
      "Team        89884 non-null object\n",
      "G           89884 non-null int64\n",
      "PA          89884 non-null int64\n",
      "HR          89884 non-null int64\n",
      "R           89884 non-null int64\n",
      "RBI         89584 non-null float64\n",
      "SB          87784 non-null float64\n",
      "BB%         89884 non-null object\n",
      "K%          82844 non-null object\n",
      "ISO         89884 non-null float64\n",
      "BABIP       82844 non-null float64\n",
      "AVG         89884 non-null float64\n",
      "OBP         89884 non-null float64\n",
      "SLG         89884 non-null float64\n",
      "wOBA        89884 non-null float64\n",
      "wRC+        84026 non-null float64\n",
      "BsR         89884 non-null float64\n",
      "Off         89884 non-null float64\n",
      "Def         89884 non-null float64\n",
      "WAR         89884 non-null float64\n",
      "playerid    89884 non-null int64\n",
      "dtypes: float64(13), int64(6), object(4)\n",
      "memory usage: 15.8+ MB\n"
     ]
    }
   ],
   "source": [
    "df = pd.read_csv(r'./data/2019/All_Seasons_Data.csv')\n",
    "df.info()"
   ]
  },
  {
   "cell_type": "code",
   "execution_count": 3,
   "metadata": {},
   "outputs": [
    {
     "data": {
      "text/html": [
       "<div>\n",
       "<style scoped>\n",
       "    .dataframe tbody tr th:only-of-type {\n",
       "        vertical-align: middle;\n",
       "    }\n",
       "\n",
       "    .dataframe tbody tr th {\n",
       "        vertical-align: top;\n",
       "    }\n",
       "\n",
       "    .dataframe thead th {\n",
       "        text-align: right;\n",
       "    }\n",
       "</style>\n",
       "<table border=\"1\" class=\"dataframe\">\n",
       "  <thead>\n",
       "    <tr style=\"text-align: right;\">\n",
       "      <th></th>\n",
       "      <th>Season</th>\n",
       "      <th>Name</th>\n",
       "      <th>Team</th>\n",
       "      <th>G</th>\n",
       "      <th>PA</th>\n",
       "      <th>HR</th>\n",
       "      <th>R</th>\n",
       "      <th>RBI</th>\n",
       "      <th>SB</th>\n",
       "      <th>BB%</th>\n",
       "      <th>...</th>\n",
       "      <th>AVG</th>\n",
       "      <th>OBP</th>\n",
       "      <th>SLG</th>\n",
       "      <th>wOBA</th>\n",
       "      <th>wRC+</th>\n",
       "      <th>BsR</th>\n",
       "      <th>Off</th>\n",
       "      <th>Def</th>\n",
       "      <th>WAR</th>\n",
       "      <th>playerid</th>\n",
       "    </tr>\n",
       "  </thead>\n",
       "  <tbody>\n",
       "    <tr>\n",
       "      <th>89879</th>\n",
       "      <td>2002</td>\n",
       "      <td>Barry Bonds</td>\n",
       "      <td>Giants</td>\n",
       "      <td>143</td>\n",
       "      <td>612</td>\n",
       "      <td>46</td>\n",
       "      <td>117</td>\n",
       "      <td>110.0</td>\n",
       "      <td>9.0</td>\n",
       "      <td>32.40%</td>\n",
       "      <td>...</td>\n",
       "      <td>0.370</td>\n",
       "      <td>0.582</td>\n",
       "      <td>0.799</td>\n",
       "      <td>0.544</td>\n",
       "      <td>244.0</td>\n",
       "      <td>-1.2</td>\n",
       "      <td>108.9</td>\n",
       "      <td>-2.0</td>\n",
       "      <td>12.7</td>\n",
       "      <td>1109</td>\n",
       "    </tr>\n",
       "    <tr>\n",
       "      <th>89880</th>\n",
       "      <td>1927</td>\n",
       "      <td>Babe Ruth</td>\n",
       "      <td>Yankees</td>\n",
       "      <td>151</td>\n",
       "      <td>691</td>\n",
       "      <td>60</td>\n",
       "      <td>158</td>\n",
       "      <td>164.0</td>\n",
       "      <td>7.0</td>\n",
       "      <td>19.80%</td>\n",
       "      <td>...</td>\n",
       "      <td>0.356</td>\n",
       "      <td>0.486</td>\n",
       "      <td>0.772</td>\n",
       "      <td>0.545</td>\n",
       "      <td>212.0</td>\n",
       "      <td>-1.8</td>\n",
       "      <td>102.7</td>\n",
       "      <td>5.5</td>\n",
       "      <td>13.0</td>\n",
       "      <td>1011327</td>\n",
       "    </tr>\n",
       "    <tr>\n",
       "      <th>89881</th>\n",
       "      <td>1920</td>\n",
       "      <td>Babe Ruth</td>\n",
       "      <td>Yankees</td>\n",
       "      <td>142</td>\n",
       "      <td>615</td>\n",
       "      <td>54</td>\n",
       "      <td>158</td>\n",
       "      <td>137.0</td>\n",
       "      <td>14.0</td>\n",
       "      <td>24.40%</td>\n",
       "      <td>...</td>\n",
       "      <td>0.376</td>\n",
       "      <td>0.533</td>\n",
       "      <td>0.849</td>\n",
       "      <td>0.598</td>\n",
       "      <td>239.0</td>\n",
       "      <td>-0.3</td>\n",
       "      <td>110.9</td>\n",
       "      <td>-4.7</td>\n",
       "      <td>13.3</td>\n",
       "      <td>1011327</td>\n",
       "    </tr>\n",
       "    <tr>\n",
       "      <th>89882</th>\n",
       "      <td>1921</td>\n",
       "      <td>Babe Ruth</td>\n",
       "      <td>Yankees</td>\n",
       "      <td>152</td>\n",
       "      <td>693</td>\n",
       "      <td>59</td>\n",
       "      <td>177</td>\n",
       "      <td>171.0</td>\n",
       "      <td>17.0</td>\n",
       "      <td>20.90%</td>\n",
       "      <td>...</td>\n",
       "      <td>0.378</td>\n",
       "      <td>0.512</td>\n",
       "      <td>0.846</td>\n",
       "      <td>0.575</td>\n",
       "      <td>224.0</td>\n",
       "      <td>0.2</td>\n",
       "      <td>119.2</td>\n",
       "      <td>-0.2</td>\n",
       "      <td>13.9</td>\n",
       "      <td>1011327</td>\n",
       "    </tr>\n",
       "    <tr>\n",
       "      <th>89883</th>\n",
       "      <td>1923</td>\n",
       "      <td>Babe Ruth</td>\n",
       "      <td>Yankees</td>\n",
       "      <td>152</td>\n",
       "      <td>699</td>\n",
       "      <td>41</td>\n",
       "      <td>151</td>\n",
       "      <td>131.0</td>\n",
       "      <td>17.0</td>\n",
       "      <td>24.30%</td>\n",
       "      <td>...</td>\n",
       "      <td>0.393</td>\n",
       "      <td>0.545</td>\n",
       "      <td>0.764</td>\n",
       "      <td>0.571</td>\n",
       "      <td>231.0</td>\n",
       "      <td>-3.2</td>\n",
       "      <td>117.3</td>\n",
       "      <td>12.6</td>\n",
       "      <td>15.0</td>\n",
       "      <td>1011327</td>\n",
       "    </tr>\n",
       "  </tbody>\n",
       "</table>\n",
       "<p>5 rows × 23 columns</p>\n",
       "</div>"
      ],
      "text/plain": [
       "       Season         Name     Team    G   PA  HR    R    RBI    SB     BB%  \\\n",
       "89879    2002  Barry Bonds   Giants  143  612  46  117  110.0   9.0  32.40%   \n",
       "89880    1927    Babe Ruth  Yankees  151  691  60  158  164.0   7.0  19.80%   \n",
       "89881    1920    Babe Ruth  Yankees  142  615  54  158  137.0  14.0  24.40%   \n",
       "89882    1921    Babe Ruth  Yankees  152  693  59  177  171.0  17.0  20.90%   \n",
       "89883    1923    Babe Ruth  Yankees  152  699  41  151  131.0  17.0  24.30%   \n",
       "\n",
       "       ...    AVG    OBP    SLG   wOBA   wRC+  BsR    Off   Def   WAR  \\\n",
       "89879  ...  0.370  0.582  0.799  0.544  244.0 -1.2  108.9  -2.0  12.7   \n",
       "89880  ...  0.356  0.486  0.772  0.545  212.0 -1.8  102.7   5.5  13.0   \n",
       "89881  ...  0.376  0.533  0.849  0.598  239.0 -0.3  110.9  -4.7  13.3   \n",
       "89882  ...  0.378  0.512  0.846  0.575  224.0  0.2  119.2  -0.2  13.9   \n",
       "89883  ...  0.393  0.545  0.764  0.571  231.0 -3.2  117.3  12.6  15.0   \n",
       "\n",
       "       playerid  \n",
       "89879      1109  \n",
       "89880   1011327  \n",
       "89881   1011327  \n",
       "89882   1011327  \n",
       "89883   1011327  \n",
       "\n",
       "[5 rows x 23 columns]"
      ]
     },
     "execution_count": 3,
     "metadata": {},
     "output_type": "execute_result"
    }
   ],
   "source": [
    "df[-5:]"
   ]
  },
  {
   "cell_type": "code",
   "execution_count": 7,
   "metadata": {},
   "outputs": [
    {
     "data": {
      "text/plain": [
       "0        0.120\n",
       "1        0.136\n",
       "2        0.042\n",
       "3        0.154\n",
       "4          NaN\n",
       "         ...  \n",
       "89879    0.077\n",
       "89880    0.129\n",
       "89881    0.130\n",
       "89882    0.117\n",
       "89883    0.133\n",
       "Name: K%, Length: 89884, dtype: float64"
      ]
     },
     "execution_count": 7,
     "metadata": {},
     "output_type": "execute_result"
    }
   ],
   "source": [
    "df['BB%'] = df['BB%'].apply(clean_pcts)\n",
    "df['K%'] = df['K%'].apply(clean_pcts)"
   ]
  },
  {
   "cell_type": "code",
   "execution_count": 5,
   "metadata": {},
   "outputs": [
    {
     "data": {
      "text/html": [
       "<div>\n",
       "<style scoped>\n",
       "    .dataframe tbody tr th:only-of-type {\n",
       "        vertical-align: middle;\n",
       "    }\n",
       "\n",
       "    .dataframe tbody tr th {\n",
       "        vertical-align: top;\n",
       "    }\n",
       "\n",
       "    .dataframe thead th {\n",
       "        text-align: right;\n",
       "    }\n",
       "</style>\n",
       "<table border=\"1\" class=\"dataframe\">\n",
       "  <thead>\n",
       "    <tr style=\"text-align: right;\">\n",
       "      <th></th>\n",
       "      <th>Season</th>\n",
       "      <th>G</th>\n",
       "      <th>PA</th>\n",
       "      <th>HR</th>\n",
       "      <th>R</th>\n",
       "      <th>RBI</th>\n",
       "      <th>SB</th>\n",
       "      <th>ISO</th>\n",
       "      <th>BABIP</th>\n",
       "      <th>AVG</th>\n",
       "      <th>OBP</th>\n",
       "      <th>SLG</th>\n",
       "      <th>wOBA</th>\n",
       "      <th>wRC+</th>\n",
       "      <th>BsR</th>\n",
       "      <th>Off</th>\n",
       "      <th>Def</th>\n",
       "      <th>WAR</th>\n",
       "      <th>playerid</th>\n",
       "    </tr>\n",
       "  </thead>\n",
       "  <tbody>\n",
       "    <tr>\n",
       "      <th>count</th>\n",
       "      <td>89884.000000</td>\n",
       "      <td>89884.000000</td>\n",
       "      <td>89884.000000</td>\n",
       "      <td>89884.000000</td>\n",
       "      <td>89884.000000</td>\n",
       "      <td>89584.000000</td>\n",
       "      <td>87784.000000</td>\n",
       "      <td>89884.000000</td>\n",
       "      <td>82844.000000</td>\n",
       "      <td>89884.000000</td>\n",
       "      <td>89884.000000</td>\n",
       "      <td>89884.000000</td>\n",
       "      <td>89884.000000</td>\n",
       "      <td>84026.000000</td>\n",
       "      <td>89884.000000</td>\n",
       "      <td>89884.000000</td>\n",
       "      <td>89884.000000</td>\n",
       "      <td>89884.000000</td>\n",
       "      <td>8.988400e+04</td>\n",
       "    </tr>\n",
       "    <tr>\n",
       "      <th>mean</th>\n",
       "      <td>1964.385297</td>\n",
       "      <td>58.376964</td>\n",
       "      <td>185.827478</td>\n",
       "      <td>3.348460</td>\n",
       "      <td>22.014541</td>\n",
       "      <td>19.905720</td>\n",
       "      <td>3.499487</td>\n",
       "      <td>0.076748</td>\n",
       "      <td>0.228862</td>\n",
       "      <td>0.194594</td>\n",
       "      <td>0.247694</td>\n",
       "      <td>0.271340</td>\n",
       "      <td>0.240033</td>\n",
       "      <td>54.112084</td>\n",
       "      <td>0.001113</td>\n",
       "      <td>-1.112888</td>\n",
       "      <td>0.546325</td>\n",
       "      <td>0.569937</td>\n",
       "      <td>7.085525e+05</td>\n",
       "    </tr>\n",
       "    <tr>\n",
       "      <th>std</th>\n",
       "      <td>40.210284</td>\n",
       "      <td>48.735608</td>\n",
       "      <td>217.048509</td>\n",
       "      <td>6.840344</td>\n",
       "      <td>29.771297</td>\n",
       "      <td>27.861934</td>\n",
       "      <td>8.314624</td>\n",
       "      <td>0.092869</td>\n",
       "      <td>0.154419</td>\n",
       "      <td>0.127915</td>\n",
       "      <td>0.148580</td>\n",
       "      <td>0.192676</td>\n",
       "      <td>0.146094</td>\n",
       "      <td>84.327421</td>\n",
       "      <td>1.253951</td>\n",
       "      <td>10.490864</td>\n",
       "      <td>5.549064</td>\n",
       "      <td>1.466738</td>\n",
       "      <td>4.587135e+05</td>\n",
       "    </tr>\n",
       "    <tr>\n",
       "      <th>min</th>\n",
       "      <td>1871.000000</td>\n",
       "      <td>1.000000</td>\n",
       "      <td>0.000000</td>\n",
       "      <td>0.000000</td>\n",
       "      <td>0.000000</td>\n",
       "      <td>0.000000</td>\n",
       "      <td>0.000000</td>\n",
       "      <td>0.000000</td>\n",
       "      <td>0.000000</td>\n",
       "      <td>0.000000</td>\n",
       "      <td>0.000000</td>\n",
       "      <td>0.000000</td>\n",
       "      <td>0.000000</td>\n",
       "      <td>-100.000000</td>\n",
       "      <td>-12.600000</td>\n",
       "      <td>-60.100000</td>\n",
       "      <td>-54.900000</td>\n",
       "      <td>-4.000000</td>\n",
       "      <td>1.000000e+00</td>\n",
       "    </tr>\n",
       "    <tr>\n",
       "      <th>25%</th>\n",
       "      <td>1932.000000</td>\n",
       "      <td>17.000000</td>\n",
       "      <td>11.000000</td>\n",
       "      <td>0.000000</td>\n",
       "      <td>1.000000</td>\n",
       "      <td>0.000000</td>\n",
       "      <td>0.000000</td>\n",
       "      <td>0.000000</td>\n",
       "      <td>0.154000</td>\n",
       "      <td>0.117000</td>\n",
       "      <td>0.167000</td>\n",
       "      <td>0.134000</td>\n",
       "      <td>0.153000</td>\n",
       "      <td>8.000000</td>\n",
       "      <td>-0.200000</td>\n",
       "      <td>-5.600000</td>\n",
       "      <td>-1.000000</td>\n",
       "      <td>-0.100000</td>\n",
       "      <td>9.092000e+03</td>\n",
       "    </tr>\n",
       "    <tr>\n",
       "      <th>50%</th>\n",
       "      <td>1972.000000</td>\n",
       "      <td>41.000000</td>\n",
       "      <td>77.000000</td>\n",
       "      <td>0.000000</td>\n",
       "      <td>6.000000</td>\n",
       "      <td>5.000000</td>\n",
       "      <td>0.000000</td>\n",
       "      <td>0.061000</td>\n",
       "      <td>0.259000</td>\n",
       "      <td>0.223000</td>\n",
       "      <td>0.283000</td>\n",
       "      <td>0.297000</td>\n",
       "      <td>0.273000</td>\n",
       "      <td>70.000000</td>\n",
       "      <td>0.000000</td>\n",
       "      <td>-1.300000</td>\n",
       "      <td>0.200000</td>\n",
       "      <td>0.000000</td>\n",
       "      <td>1.004233e+06</td>\n",
       "    </tr>\n",
       "    <tr>\n",
       "      <th>75%</th>\n",
       "      <td>2001.000000</td>\n",
       "      <td>97.000000</td>\n",
       "      <td>329.000000</td>\n",
       "      <td>3.000000</td>\n",
       "      <td>36.000000</td>\n",
       "      <td>31.000000</td>\n",
       "      <td>3.000000</td>\n",
       "      <td>0.122000</td>\n",
       "      <td>0.305000</td>\n",
       "      <td>0.271000</td>\n",
       "      <td>0.336000</td>\n",
       "      <td>0.391000</td>\n",
       "      <td>0.331000</td>\n",
       "      <td>103.000000</td>\n",
       "      <td>0.000000</td>\n",
       "      <td>0.000000</td>\n",
       "      <td>2.500000</td>\n",
       "      <td>0.600000</td>\n",
       "      <td>1.009355e+06</td>\n",
       "    </tr>\n",
       "    <tr>\n",
       "      <th>max</th>\n",
       "      <td>2018.000000</td>\n",
       "      <td>165.000000</td>\n",
       "      <td>778.000000</td>\n",
       "      <td>73.000000</td>\n",
       "      <td>192.000000</td>\n",
       "      <td>191.000000</td>\n",
       "      <td>138.000000</td>\n",
       "      <td>3.000000</td>\n",
       "      <td>1.000000</td>\n",
       "      <td>1.000000</td>\n",
       "      <td>1.000000</td>\n",
       "      <td>4.000000</td>\n",
       "      <td>2.181000</td>\n",
       "      <td>1305.000000</td>\n",
       "      <td>17.700000</td>\n",
       "      <td>119.200000</td>\n",
       "      <td>50.100000</td>\n",
       "      <td>15.000000</td>\n",
       "      <td>1.014471e+06</td>\n",
       "    </tr>\n",
       "  </tbody>\n",
       "</table>\n",
       "</div>"
      ],
      "text/plain": [
       "             Season             G            PA            HR             R  \\\n",
       "count  89884.000000  89884.000000  89884.000000  89884.000000  89884.000000   \n",
       "mean    1964.385297     58.376964    185.827478      3.348460     22.014541   \n",
       "std       40.210284     48.735608    217.048509      6.840344     29.771297   \n",
       "min     1871.000000      1.000000      0.000000      0.000000      0.000000   \n",
       "25%     1932.000000     17.000000     11.000000      0.000000      1.000000   \n",
       "50%     1972.000000     41.000000     77.000000      0.000000      6.000000   \n",
       "75%     2001.000000     97.000000    329.000000      3.000000     36.000000   \n",
       "max     2018.000000    165.000000    778.000000     73.000000    192.000000   \n",
       "\n",
       "                RBI            SB           ISO         BABIP           AVG  \\\n",
       "count  89584.000000  87784.000000  89884.000000  82844.000000  89884.000000   \n",
       "mean      19.905720      3.499487      0.076748      0.228862      0.194594   \n",
       "std       27.861934      8.314624      0.092869      0.154419      0.127915   \n",
       "min        0.000000      0.000000      0.000000      0.000000      0.000000   \n",
       "25%        0.000000      0.000000      0.000000      0.154000      0.117000   \n",
       "50%        5.000000      0.000000      0.061000      0.259000      0.223000   \n",
       "75%       31.000000      3.000000      0.122000      0.305000      0.271000   \n",
       "max      191.000000    138.000000      3.000000      1.000000      1.000000   \n",
       "\n",
       "                OBP           SLG          wOBA          wRC+           BsR  \\\n",
       "count  89884.000000  89884.000000  89884.000000  84026.000000  89884.000000   \n",
       "mean       0.247694      0.271340      0.240033     54.112084      0.001113   \n",
       "std        0.148580      0.192676      0.146094     84.327421      1.253951   \n",
       "min        0.000000      0.000000      0.000000   -100.000000    -12.600000   \n",
       "25%        0.167000      0.134000      0.153000      8.000000     -0.200000   \n",
       "50%        0.283000      0.297000      0.273000     70.000000      0.000000   \n",
       "75%        0.336000      0.391000      0.331000    103.000000      0.000000   \n",
       "max        1.000000      4.000000      2.181000   1305.000000     17.700000   \n",
       "\n",
       "                Off           Def           WAR      playerid  \n",
       "count  89884.000000  89884.000000  89884.000000  8.988400e+04  \n",
       "mean      -1.112888      0.546325      0.569937  7.085525e+05  \n",
       "std       10.490864      5.549064      1.466738  4.587135e+05  \n",
       "min      -60.100000    -54.900000     -4.000000  1.000000e+00  \n",
       "25%       -5.600000     -1.000000     -0.100000  9.092000e+03  \n",
       "50%       -1.300000      0.200000      0.000000  1.004233e+06  \n",
       "75%        0.000000      2.500000      0.600000  1.009355e+06  \n",
       "max      119.200000     50.100000     15.000000  1.014471e+06  "
      ]
     },
     "execution_count": 5,
     "metadata": {},
     "output_type": "execute_result"
    }
   ],
   "source": [
    "df.describe()"
   ]
  },
  {
   "cell_type": "code",
   "execution_count": 8,
   "metadata": {},
   "outputs": [
    {
     "data": {
      "text/plain": [
       "<matplotlib.axes._subplots.AxesSubplot at 0x207ee1e3400>"
      ]
     },
     "execution_count": 8,
     "metadata": {},
     "output_type": "execute_result"
    },
    {
     "data": {
      "text/plain": [
       "<Figure size 432x288 with 0 Axes>"
      ]
     },
     "metadata": {},
     "output_type": "display_data"
    },
    {
     "data": {
      "image/png": "[encoded data removed]",
      "text/plain": [
       "<Figure size 432x288 with 1 Axes>"
      ]
     },
     "metadata": {
      "needs_background": "light"
     },
     "output_type": "display_data"
    }
   ],
   "source": [
    "fig = plt.figure()\n",
    "\n",
    "df.plot('Off','Def', kind='scatter') "
   ]
  },
  {
   "cell_type": "code",
   "execution_count": 16,
   "metadata": {},
   "outputs": [
    {
     "data": {
      "text/plain": [
       "<seaborn.axisgrid.FacetGrid at 0x207f15baf60>"
      ]
     },
     "execution_count": 16,
     "metadata": {},
     "output_type": "execute_result"
    },
    {
     "data": {
      "text/plain": [
       "<Figure size 720x720 with 0 Axes>"
      ]
     },
     "metadata": {},
     "output_type": "display_data"
    },
    {
     "data": {
      "image/png": "[encoded data removed]",
      "text/plain": [
       "<Figure size 360x360 with 1 Axes>"
      ]
     },
     "metadata": {
      "needs_background": "light"
     },
     "output_type": "display_data"
    }
   ],
   "source": [
    "import seaborn as sns\n",
    "plt.figure(figsize=(10,10))\n",
    "fg = sns.FacetGrid(data=df, hue='WAR', height=5)\n",
    "fg.map(plt.scatter, 'Off', 'Def')"
   ]
  },
  {
   "cell_type": "code",
   "execution_count": 30,
   "metadata": {},
   "outputs": [],
   "source": [
    "# colors = df['WAR'].value_counts().index\n",
    "# plt.scatter(df['Off'], df['Def'], c=colors, cmap='jet')"
   ]
  },
  {
   "cell_type": "code",
   "execution_count": null,
   "metadata": {},
   "outputs": [],
   "source": []
  },
  {
   "cell_type": "code",
   "execution_count": 17,
   "metadata": {},
   "outputs": [
    {
     "name": "stderr",
     "output_type": "stream",
     "text": [
      "C:\\Anaconda3\\lib\\site-packages\\sklearn\\cross_validation.py:41: DeprecationWarning: This module was deprecated in version 0.18 in favor of the model_selection module into which all the refactored classes and functions are moved. Also note that the interface of the new CV iterators are different from that of this module. This module will be removed in 0.20.\n",
      "  \"This module will be removed in 0.20.\", DeprecationWarning)\n"
     ]
    }
   ],
   "source": [
    "from sklearn.cross_validation import train_test_split\n",
    "#from sklearn.metrics import classification_report\n",
    "#from sklearn.neighbors import KNeighborsClassifier"
   ]
  },
  {
   "cell_type": "code",
   "execution_count": null,
   "metadata": {},
   "outputs": [],
   "source": []
  },
  {
   "cell_type": "code",
   "execution_count": null,
   "metadata": {},
   "outputs": [],
   "source": []
  },
  {
   "cell_type": "code",
   "execution_count": 18,
   "metadata": {},
   "outputs": [],
   "source": [
    "min200 = df[df['PA'] > 200]\n",
    "X = min200[['Off', 'Def', 'BsR']]\n",
    "y = min200['WAR']\n",
    "X_train, X_test, y_train, y_test = train_test_split(X, y, test_size=0.33, random_state=42)"
   ]
  },
  {
   "cell_type": "code",
   "execution_count": 8,
   "metadata": {},
   "outputs": [],
   "source": [
    "#k5 = KNeighborsClassifier(n_neighbors=5)\n",
    "#k5.fit(X_train, y_train)"
   ]
  },
  {
   "cell_type": "code",
   "execution_count": 19,
   "metadata": {},
   "outputs": [],
   "source": [
    "from sklearn import linear_model\n",
    "from sklearn import svm\n",
    "from sklearn.metrics import accuracy_score, mean_squared_error\n",
    "too_big = [linear_model.ARDRegression(verbose=True)]\n",
    "classifiers = {\n",
    "    'SVM': svm.SVR(verbose=True),\n",
    "    'SGD': linear_model.SGDRegressor(verbose=True),\n",
    "    'BayesianRidge': linear_model.BayesianRidge(verbose=True),\n",
    "    'Lasso':linear_model.LassoLars(verbose=True),\n",
    "    'PasiveAggressive': linear_model.PassiveAggressiveRegressor(verbose=True),\n",
    "    'TheilSen': linear_model.TheilSenRegressor(verbose=True),\n",
    "    'Linear': linear_model.LinearRegression()}\n",
    "\n",
    "    "
   ]
  },
  {
   "cell_type": "code",
   "execution_count": 24,
   "metadata": {},
   "outputs": [
    {
     "name": "stdout",
     "output_type": "stream",
     "text": [
      "SVR(C=1.0, cache_size=200, coef0=0.0, degree=3, epsilon=0.1, gamma='auto',\n",
      "  kernel='rbf', max_iter=-1, shrinking=True, tol=0.001, verbose=True)\n",
      "[LibSVM]SGDRegressor(alpha=0.0001, average=False, epsilon=0.1, eta0=0.01,\n",
      "       fit_intercept=True, l1_ratio=0.15, learning_rate='invscaling',\n",
      "       loss='squared_loss', max_iter=None, n_iter=None, penalty='l2',\n",
      "       power_t=0.25, random_state=None, shuffle=True, tol=None,\n",
      "       verbose=True, warm_start=False)\n"
     ]
    },
    {
     "name": "stderr",
     "output_type": "stream",
     "text": [
      "C:\\Anaconda3\\lib\\site-packages\\sklearn\\linear_model\\stochastic_gradient.py:128: FutureWarning: max_iter and tol parameters have been added in <class 'sklearn.linear_model.stochastic_gradient.SGDRegressor'> in 0.19. If both are left unset, they default to max_iter=5 and tol=None. If tol is not None, max_iter defaults to max_iter=1000. From 0.21, default max_iter will be 1000, and default tol will be 1e-3.\n",
      "  \"and default tol will be 1e-3.\" % type(self), FutureWarning)\n"
     ]
    },
    {
     "name": "stdout",
     "output_type": "stream",
     "text": [
      "-- Epoch 1\n",
      "Norm: 0.15, NNZs: 3, Bias: 1.518019, T: 20601, Avg. loss: 4011042.259682\n",
      "Total training time: 0.01 seconds.\n",
      "-- Epoch 2\n",
      "Norm: 0.13, NNZs: 3, Bias: 1.497886, T: 41202, Avg. loss: 0.183263\n",
      "Total training time: 0.02 seconds.\n",
      "-- Epoch 3\n",
      "Norm: 0.16, NNZs: 3, Bias: 1.518944, T: 61803, Avg. loss: 0.176088\n",
      "Total training time: 0.04 seconds.\n",
      "-- Epoch 4\n",
      "Norm: 0.17, NNZs: 3, Bias: 1.512288, T: 82404, Avg. loss: 0.160034\n",
      "Total training time: 0.05 seconds.\n",
      "-- Epoch 5\n",
      "Norm: 0.15, NNZs: 3, Bias: 1.515726, T: 103005, Avg. loss: 0.160056\n",
      "Total training time: 0.05 seconds.\n",
      "BayesianRidge(alpha_1=1e-06, alpha_2=1e-06, compute_score=False, copy_X=True,\n",
      "       fit_intercept=True, lambda_1=1e-06, lambda_2=1e-06, n_iter=300,\n",
      "       normalize=False, tol=0.001, verbose=True)\n",
      "Convergence after  1  iterations\n",
      "LassoLars(alpha=1.0, copy_X=True, eps=2.220446049250313e-16,\n",
      "     fit_intercept=True, fit_path=True, max_iter=500, normalize=True,\n",
      "     positive=False, precompute='auto', verbose=True)\n",
      "PassiveAggressiveRegressor(C=1.0, average=False, epsilon=0.1,\n",
      "              fit_intercept=True, loss='epsilon_insensitive',\n",
      "              max_iter=None, n_iter=None, random_state=None, shuffle=True,\n",
      "              tol=None, verbose=True, warm_start=False)\n",
      "-- Epoch 1\n",
      "Norm: 0.19, NNZs: 3, Bias: 1.325962, T: 20601, Avg. loss: 0.787935\n",
      "Total training time: 0.01 seconds.\n",
      "-- Epoch 2\n",
      "Norm: 0.17, NNZs: 3, Bias: 1.312838, T: 41202, Avg. loss: 0.768687\n",
      "Total training time: 0.02 seconds.\n",
      "-- Epoch 3\n",
      "Norm: 0.23, NNZs: 3, Bias: 1.054991, T: 61803, Avg. loss: 0.777199\n",
      "Total training time: 0.04 seconds.\n",
      "-- Epoch 4\n",
      "Norm: 0.18, NNZs: 3, Bias: 1.180513, T: 82404, Avg. loss: 0.778528\n",
      "Total training time: 0.04 seconds.\n",
      "-- Epoch 5\n",
      "Norm: 0.13, NNZs: 3, Bias: 1.357519, T: 103005, Avg. loss: 0.767759\n",
      "Total training time: 0.05 seconds.\n",
      "TheilSenRegressor(copy_X=True, fit_intercept=True, max_iter=300,\n",
      "         max_subpopulation=10000, n_jobs=1, n_subsamples=None,\n",
      "         random_state=None, tol=0.001, verbose=True)\n",
      "Breakdown point: 0.1590804154460458\n",
      "Number of samples: 20601\n",
      "Tolerable outliers: 3277\n",
      "Number of subpopulations: 10000\n"
     ]
    },
    {
     "name": "stderr",
     "output_type": "stream",
     "text": [
      "C:\\Anaconda3\\lib\\site-packages\\sklearn\\linear_model\\stochastic_gradient.py:128: FutureWarning: max_iter and tol parameters have been added in <class 'sklearn.linear_model.passive_aggressive.PassiveAggressiveRegressor'> in 0.19. If both are left unset, they default to max_iter=5 and tol=None. If tol is not None, max_iter defaults to max_iter=1000. From 0.21, default max_iter will be 1000, and default tol will be 1e-3.\n",
      "  \"and default tol will be 1e-3.\" % type(self), FutureWarning)\n",
      "[Parallel(n_jobs=1)]: Done   1 out of   1 | elapsed:    0.3s finished\n"
     ]
    },
    {
     "name": "stdout",
     "output_type": "stream",
     "text": [
      "LinearRegression(copy_X=True, fit_intercept=True, n_jobs=1, normalize=False)\n"
     ]
    }
   ],
   "source": [
    "models = {}\n",
    "preds = {}\n",
    "for name, model in classifiers.items():\n",
    "    print(model)\n",
    "    models[name] = model \n",
    "    model.fit(X_train, y_train)\n"
   ]
  },
  {
   "cell_type": "code",
   "execution_count": null,
   "metadata": {},
   "outputs": [],
   "source": [
    "\n",
    "    "
   ]
  },
  {
   "cell_type": "code",
   "execution_count": 25,
   "metadata": {},
   "outputs": [],
   "source": [
    "from sklearn.metrics import r2_score\n",
    "from sklearn.metrics import mean_squared_log_error\n",
    "from sklearn.metrics import explained_variance_score\n",
    "from sklearn.metrics import mean_squared_error"
   ]
  },
  {
   "cell_type": "code",
   "execution_count": 26,
   "metadata": {},
   "outputs": [],
   "source": [
    "\n",
    "with open('./results/Linear_Regression_Results_12.23.19_ALL_SZNS_min200.txt', 'w') as f:\n",
    "    for i, predictions in preds.items():\n",
    "        f.write(i)\n",
    "        f.write('\\n\\nMean Square Error: {}'.format(np.round(mean_squared_error(y_test, predictions), 4)))\n",
    "        f.write('\\nR^2: {}'.format(r2_score(y_test, predictions)))\n",
    "        f.write('\\nexplained_var_score: {}'.format(explained_variance_score(y_test, predictions)))\n",
    "        #f.write('\\nMSLE: {}'.format(mean_squared_log_error(y_test, predictions)))\n",
    "        \n",
    "        f.write('\\n\\n{}\\n\\n'.format('*'*25))"
   ]
  },
  {
   "cell_type": "code",
   "execution_count": 27,
   "metadata": {},
   "outputs": [],
   "source": [
    "import pickle\n",
    "pick = open('results/models.pickle', 'wb')\n",
    "pickle.dump(models, pick)\n",
    "pick.close()"
   ]
  },
  {
   "cell_type": "code",
   "execution_count": null,
   "metadata": {},
   "outputs": [],
   "source": []
  },
  {
   "cell_type": "code",
   "execution_count": 30,
   "metadata": {},
   "outputs": [],
   "source": [
    "import pickle\n",
    "trained_models = pickle.load(open('results/models.pickle', 'rb'))\n",
    "predictions = {}\n",
    "for name, mod in trained_models.items():\n",
    "    predictions[name] = mod.predict(X_test)"
   ]
  },
  {
   "cell_type": "code",
   "execution_count": 31,
   "metadata": {},
   "outputs": [],
   "source": [
    "dypreds = {}\n",
    "MSEs = {} \n",
    "for name, preds in predictions.items():\n",
    "    MSEs[name] = mean_squared_error(y_test, preds)\n",
    "    dypreds[name] = 1.96 * np.sqrt(MSEs[name])\n",
    "    "
   ]
  },
  {
   "cell_type": "code",
   "execution_count": 32,
   "metadata": {},
   "outputs": [
    {
     "data": {
      "image/png": "[encoded data removed]",
      "text/plain": [
       "<Figure size 720x720 with 9 Axes>"
      ]
     },
     "metadata": {
      "needs_background": "light"
     },
     "output_type": "display_data"
    }
   ],
   "source": [
    "fig, ax = plt.subplots(3,3, figsize=(10, 10))\n",
    "for i, (name, preds) in enumerate(predictions.items()):\n",
    "        axi = ax.flat[i]\n",
    "        axi.scatter(y_test, predictions[name])\n",
    "        axi.set_title(name)"
   ]
  },
  {
   "cell_type": "code",
   "execution_count": null,
   "metadata": {},
   "outputs": [],
   "source": []
  },
  {
   "cell_type": "code",
   "execution_count": 33,
   "metadata": {},
   "outputs": [
    {
     "data": {
      "text/html": [
       "<div>\n",
       "<style scoped>\n",
       "    .dataframe tbody tr th:only-of-type {\n",
       "        vertical-align: middle;\n",
       "    }\n",
       "\n",
       "    .dataframe tbody tr th {\n",
       "        vertical-align: top;\n",
       "    }\n",
       "\n",
       "    .dataframe thead th {\n",
       "        text-align: right;\n",
       "    }\n",
       "</style>\n",
       "<table border=\"1\" class=\"dataframe\">\n",
       "  <thead>\n",
       "    <tr style=\"text-align: right;\">\n",
       "      <th></th>\n",
       "      <th>Off</th>\n",
       "      <th>Def</th>\n",
       "      <th>BsR</th>\n",
       "    </tr>\n",
       "  </thead>\n",
       "  <tbody>\n",
       "    <tr>\n",
       "      <th>78902</th>\n",
       "      <td>-6.1</td>\n",
       "      <td>2.5</td>\n",
       "      <td>1.7</td>\n",
       "    </tr>\n",
       "    <tr>\n",
       "      <th>80117</th>\n",
       "      <td>-5.4</td>\n",
       "      <td>5.7</td>\n",
       "      <td>-0.3</td>\n",
       "    </tr>\n",
       "    <tr>\n",
       "      <th>67812</th>\n",
       "      <td>2.7</td>\n",
       "      <td>-1.7</td>\n",
       "      <td>0.1</td>\n",
       "    </tr>\n",
       "    <tr>\n",
       "      <th>68481</th>\n",
       "      <td>-2.1</td>\n",
       "      <td>0.5</td>\n",
       "      <td>2.2</td>\n",
       "    </tr>\n",
       "    <tr>\n",
       "      <th>59962</th>\n",
       "      <td>-10.8</td>\n",
       "      <td>4.0</td>\n",
       "      <td>-0.8</td>\n",
       "    </tr>\n",
       "  </tbody>\n",
       "</table>\n",
       "</div>"
      ],
      "text/plain": [
       "        Off  Def  BsR\n",
       "78902  -6.1  2.5  1.7\n",
       "80117  -5.4  5.7 -0.3\n",
       "67812   2.7 -1.7  0.1\n",
       "68481  -2.1  0.5  2.2\n",
       "59962 -10.8  4.0 -0.8"
      ]
     },
     "execution_count": 33,
     "metadata": {},
     "output_type": "execute_result"
    }
   ],
   "source": [
    "X_test[:5]"
   ]
  },
  {
   "cell_type": "code",
   "execution_count": 34,
   "metadata": {},
   "outputs": [],
   "source": [
    "eos19 = pd.read_csv('./data/2019/EndofSeason.csv')"
   ]
  },
  {
   "cell_type": "code",
   "execution_count": 35,
   "metadata": {},
   "outputs": [],
   "source": [
    "X_test19 = eos19[['Off', 'Def', 'BsR']]\n",
    "y_test19 = eos19['WAR']\n",
    "\n",
    "predictions19 = {}\n",
    "\n",
    "for name, model in trained_models.items():\n",
    "    predictions19[name] = model.predict(X_test19)\n",
    "    "
   ]
  },
  {
   "cell_type": "code",
   "execution_count": 36,
   "metadata": {},
   "outputs": [
    {
     "data": {
      "image/png": "[encoded data removed]",
      "text/plain": [
       "<Figure size 720x720 with 9 Axes>"
      ]
     },
     "metadata": {
      "needs_background": "light"
     },
     "output_type": "display_data"
    }
   ],
   "source": [
    "fig, ax = plt.subplots(3,3, figsize=(10, 10))\n",
    "for i, (name, preds) in enumerate(predictions19.items()):\n",
    "        if name:\n",
    "            axi = ax.flat[i]\n",
    "            axi.scatter(y_test19, predictions19[name])\n",
    "            axi.set_title(name)"
   ]
  },
  {
   "cell_type": "code",
   "execution_count": 37,
   "metadata": {},
   "outputs": [],
   "source": []
  },
  {
   "cell_type": "code",
   "execution_count": null,
   "metadata": {},
   "outputs": [],
   "source": []
  }
 ],
 "metadata": {
  "kernelspec": {
   "display_name": "Python 3",
   "language": "python",
   "name": "python3"
  },
  "language_info": {
   "codemirror_mode": {
    "name": "ipython",
    "version": 3
   },
   "file_extension": ".py",
   "mimetype": "text/x-python",
   "name": "python",
   "nbconvert_exporter": "python",
   "pygments_lexer": "ipython3",
   "version": "3.6.5"
  }
 },
 "nbformat": 4,
 "nbformat_minor": 4
}
