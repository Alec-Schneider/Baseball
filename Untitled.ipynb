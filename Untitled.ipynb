{
 "cells": [
  {
   "cell_type": "code",
   "execution_count": 1,
   "metadata": {},
   "outputs": [],
   "source": [
    "import pandas as pd\n",
    "import numpy as np\n",
    "import matplotlib.pyplot as plt\n",
    "from Bfuncs import clean_pcts\n",
    "%matplotlib inline"
   ]
  },
  {
   "cell_type": "code",
   "execution_count": 3,
   "metadata": {},
   "outputs": [
    {
     "data": {
      "text/plain": [
       "Name         object\n",
       "Team         object\n",
       "G             int64\n",
       "AB            int64\n",
       "PA            int64\n",
       "H             int64\n",
       "1B            int64\n",
       "2B            int64\n",
       "3B            int64\n",
       "HR            int64\n",
       "R             int64\n",
       "RBI           int64\n",
       "BB            int64\n",
       "IBB           int64\n",
       "SO            int64\n",
       "HBP           int64\n",
       "SF            int64\n",
       "SH            int64\n",
       "GDP           int64\n",
       "SB            int64\n",
       "CS            int64\n",
       "AVG         float64\n",
       "playerid      int64\n",
       "dtype: object"
      ]
     },
     "execution_count": 3,
     "metadata": {},
     "output_type": "execute_result"
    }
   ],
   "source": [
    "sd = pd.read_csv('./Data/2019/2019Standard.csv')\n",
    "sd.dtypes"
   ]
  },
  {
   "cell_type": "code",
   "execution_count": 11,
   "metadata": {},
   "outputs": [
    {
     "data": {
      "text/plain": [
       "Name         object\n",
       "Team         object\n",
       "PA            int64\n",
       "BB%          object\n",
       "K%           object\n",
       "BB/K        float64\n",
       "AVG         float64\n",
       "OBP         float64\n",
       "SLG         float64\n",
       "OPS         float64\n",
       "ISO         float64\n",
       "Spd         float64\n",
       "BABIP       float64\n",
       "UBR         float64\n",
       "wGDP        float64\n",
       "wSB         float64\n",
       "wRC           int64\n",
       "wRAA        float64\n",
       "wOBA        float64\n",
       "wRC+        float64\n",
       "playerid      int64\n",
       "dtype: object"
      ]
     },
     "execution_count": 11,
     "metadata": {},
     "output_type": "execute_result"
    }
   ],
   "source": [
    "adv = pd.read_csv('./Data/2019/2019Advanced.csv')\n",
    "adv.dtypes"
   ]
  },
  {
   "cell_type": "code",
   "execution_count": 12,
   "metadata": {},
   "outputs": [],
   "source": [
    "adv['K%'] = adv['K%'].apply(clean_pcts)\n",
    "adv['BB%'] = adv['BB%'].apply(clean_pcts)"
   ]
  },
  {
   "cell_type": "code",
   "execution_count": 37,
   "metadata": {},
   "outputs": [
    {
     "data": {
      "text/plain": [
       "Name         object\n",
       "Team         object\n",
       "FB%          object\n",
       "FBv         float64\n",
       "SL%          object\n",
       "SLv         float64\n",
       "CT%          object\n",
       "CTv         float64\n",
       "CB%          object\n",
       "CBv         float64\n",
       "CH%          object\n",
       "CHv         float64\n",
       "SF%          object\n",
       "SFv         float64\n",
       "KN%          object\n",
       "KNv         float64\n",
       "XX%          object\n",
       "playerid      int64\n",
       "dtype: object"
      ]
     },
     "execution_count": 37,
     "metadata": {},
     "output_type": "execute_result"
    }
   ],
   "source": [
    "pitch_type = pd.read_csv('./data/2019/2019PitchType.csv')\n",
    "pitch_type.dtypes"
   ]
  },
  {
   "cell_type": "code",
   "execution_count": 39,
   "metadata": {},
   "outputs": [],
   "source": [
    "pitch_type['FB%'] = pitch_type['FB%'].fillna('0%').apply(clean_pcts)\n",
    "pitch_type['SL%'] = pitch_type['SL%'].fillna('0%').apply(clean_pcts)\n",
    "pitch_type['CT%'] = pitch_type['CT%'].fillna('0%').apply(clean_pcts)\n",
    "pitch_type['CB%'] = pitch_type['CB%'].fillna('0%').apply(clean_pcts)\n",
    "pitch_type['CH%'] = pitch_type['CH%'].fillna('0%').apply(clean_pcts)\n",
    "pitch_type['SF%'] = pitch_type['SF%'].fillna('0%').apply(clean_pcts)\n",
    "pitch_type['KN%'] = pitch_type['KN%'].fillna('0%').apply(clean_pcts)\n",
    "pitch_type['XX%'] = pitch_type['XX%'].fillna('0%').apply(clean_pcts)"
   ]
  },
  {
   "cell_type": "code",
   "execution_count": 40,
   "metadata": {},
   "outputs": [
    {
     "data": {
      "text/plain": [
       "Name         object\n",
       "Team         object\n",
       "BABIP       float64\n",
       "GB/FB       float64\n",
       "LD%          object\n",
       "GB%          object\n",
       "FB%          object\n",
       "IFFB%        object\n",
       "HR/FB        object\n",
       "IFH           int64\n",
       "IFH%         object\n",
       "BUH           int64\n",
       "BUH%         object\n",
       "Pull%        object\n",
       "Cent%        object\n",
       "Oppo%        object\n",
       "Soft%        object\n",
       "Med%         object\n",
       "Hard%        object\n",
       "playerid      int64\n",
       "dtype: object"
      ]
     },
     "execution_count": 40,
     "metadata": {},
     "output_type": "execute_result"
    }
   ],
   "source": [
    "batted = pd.read_csv('./data/2019/2019BattedBall.csv')\n",
    "batted.dtypes"
   ]
  },
  {
   "cell_type": "code",
   "execution_count": 41,
   "metadata": {},
   "outputs": [],
   "source": [
    "batted['LD%'] = batted['LD%'].fillna('0%').apply(clean_pcts)\n",
    "batted['GB%'] = batted['GB%'].fillna('0%').apply(clean_pcts)\n",
    "batted['FB%'] = batted['FB%'].fillna('0%').apply(clean_pcts)\n",
    "batted['IFFB%'] = batted['IFFB%'].fillna('0%').apply(clean_pcts)\n",
    "batted['IFH%'] = batted['IFH%'].fillna('0%').apply(clean_pcts)"
   ]
  },
  {
   "cell_type": "code",
   "execution_count": null,
   "metadata": {},
   "outputs": [],
   "source": []
  },
  {
   "cell_type": "code",
   "execution_count": null,
   "metadata": {},
   "outputs": [],
   "source": []
  },
  {
   "cell_type": "code",
   "execution_count": null,
   "metadata": {},
   "outputs": [],
   "source": []
  }
 ],
 "metadata": {
  "kernelspec": {
   "display_name": "Python 3",
   "language": "python",
   "name": "python3"
  },
  "language_info": {
   "codemirror_mode": {
    "name": "ipython",
    "version": 3
   },
   "file_extension": ".py",
   "mimetype": "text/x-python",
   "name": "python",
   "nbconvert_exporter": "python",
   "pygments_lexer": "ipython3",
   "version": "3.6.5"
  }
 },
 "nbformat": 4,
 "nbformat_minor": 2
}
