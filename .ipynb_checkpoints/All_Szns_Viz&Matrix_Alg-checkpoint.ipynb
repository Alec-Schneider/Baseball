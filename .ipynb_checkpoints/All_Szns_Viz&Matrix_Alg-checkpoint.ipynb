{
 "cells": [
  {
   "cell_type": "code",
   "execution_count": 2,
   "metadata": {},
   "outputs": [],
   "source": [
    "import pandas as pd\n",
    "import matplotlib.pyplot as plt\n",
    "from bfuncs import clean_pcts\n",
    "import seaborn as sns\n",
    "%matplotlib inline"
   ]
  },
  {
   "cell_type": "code",
   "execution_count": 3,
   "metadata": {},
   "outputs": [],
   "source": [
    "data = pd.read_csv('./data/2019/All_Seasons_Data.csv')"
   ]
  },
  {
   "cell_type": "code",
   "execution_count": 4,
   "metadata": {},
   "outputs": [
    {
     "name": "stdout",
     "output_type": "stream",
     "text": [
      "89874    0.221\n",
      "89875    0.209\n",
      "89876    0.152\n",
      "89877    0.267\n",
      "89878    0.139\n",
      "89879    0.324\n",
      "89880    0.198\n",
      "89881    0.244\n",
      "89882    0.209\n",
      "89883    0.243\n",
      "Name: BB%, dtype: float64\n",
      "89874    0.117\n",
      "89875    0.119\n",
      "89876    0.117\n",
      "89877    0.140\n",
      "89878    0.050\n",
      "89879    0.077\n",
      "89880    0.129\n",
      "89881    0.130\n",
      "89882    0.117\n",
      "89883    0.133\n",
      "Name: K%, dtype: float64\n"
     ]
    }
   ],
   "source": [
    "for i in ['BB%', 'K%']:\n",
    "    data[i] = data[i].apply(clean_pcts)\n",
    "    print(data[i][-10:])"
   ]
  },
  {
   "cell_type": "code",
   "execution_count": 5,
   "metadata": {},
   "outputs": [
    {
     "data": {
      "text/plain": [
       "Season                1924\n",
       "Name        Rogers Hornsby\n",
       "Team             Cardinals\n",
       "G                      143\n",
       "PA                     640\n",
       "HR                      25\n",
       "R                      121\n",
       "RBI                     94\n",
       "SB                       5\n",
       "BB%                  0.139\n",
       "K%                    0.05\n",
       "ISO                  0.272\n",
       "BABIP                0.422\n",
       "AVG                  0.424\n",
       "OBP                  0.507\n",
       "SLG                  0.696\n",
       "wOBA                 0.537\n",
       "wRC+                   221\n",
       "BsR                     -2\n",
       "Off                   94.2\n",
       "Def                   11.4\n",
       "WAR                   12.5\n",
       "playerid           1006030\n",
       "Name: 89878, dtype: object"
      ]
     },
     "execution_count": 5,
     "metadata": {},
     "output_type": "execute_result"
    }
   ],
   "source": [
    "data.loc[89878]"
   ]
  },
  {
   "cell_type": "code",
   "execution_count": 6,
   "metadata": {},
   "outputs": [
    {
     "name": "stdout",
     "output_type": "stream",
     "text": [
      "['bmh', 'classic', 'dark_background', 'fast', 'fivethirtyeight', 'ggplot', 'grayscale', 'seaborn-bright', 'seaborn-colorblind', 'seaborn-dark-palette', 'seaborn-dark', 'seaborn-darkgrid', 'seaborn-deep', 'seaborn-muted', 'seaborn-notebook', 'seaborn-paper', 'seaborn-pastel', 'seaborn-poster', 'seaborn-talk', 'seaborn-ticks', 'seaborn-white', 'seaborn-whitegrid', 'seaborn', 'Solarize_Light2', 'tableau-colorblind10', '_classic_test']\n",
      "{'axes.facecolor': 'white', 'axes.edgecolor': 'black', 'axes.grid': False, 'axes.axisbelow': 'line', 'axes.labelcolor': 'black', 'figure.facecolor': (1, 1, 1, 0), 'grid.color': '#b0b0b0', 'grid.linestyle': '-', 'text.color': 'black', 'xtick.color': 'black', 'ytick.color': 'black', 'xtick.direction': 'out', 'ytick.direction': 'out', 'lines.solid_capstyle': 'projecting', 'patch.edgecolor': 'black', 'image.cmap': 'viridis', 'font.family': ['sans-serif'], 'font.sans-serif': ['DejaVu Sans', 'Bitstream Vera Sans', 'Computer Modern Sans Serif', 'Lucida Grande', 'Verdana', 'Geneva', 'Lucid', 'Arial', 'Helvetica', 'Avant Garde', 'sans-serif'], 'patch.force_edgecolor': False, 'xtick.bottom': True, 'xtick.top': False, 'ytick.left': True, 'ytick.right': False, 'axes.spines.left': True, 'axes.spines.bottom': True, 'axes.spines.right': True, 'axes.spines.top': True}\n"
     ]
    }
   ],
   "source": [
    "print(plt.style.available)\n",
    "print(sns.axes_style())\n",
    "plt.style.use('seaborn-whitegrid')"
   ]
  },
  {
   "cell_type": "code",
   "execution_count": 7,
   "metadata": {},
   "outputs": [
    {
     "name": "stdout",
     "output_type": "stream",
     "text": [
      "13037\n"
     ]
    },
    {
     "data": {
      "image/png": "[encoded data removed]",
      "text/plain": [
       "<Figure size 432x288 with 1 Axes>"
      ]
     },
     "metadata": {},
     "output_type": "display_data"
    }
   ],
   "source": [
    "qual = 502\n",
    "mask = data['PA'] >= qual\n",
    "print(len(data[mask]))\n",
    "plt.hist(data[mask]['WAR']);"
   ]
  },
  {
   "cell_type": "code",
   "execution_count": 8,
   "metadata": {},
   "outputs": [
    {
     "name": "stderr",
     "output_type": "stream",
     "text": [
      "C:\\Anaconda3\\lib\\site-packages\\scipy\\stats\\stats.py:1713: FutureWarning: Using a non-tuple sequence for multidimensional indexing is deprecated; use `arr[tuple(seq)]` instead of `arr[seq]`. In the future this will be interpreted as an array index, `arr[np.array(seq)]`, which will result either in an error or a different result.\n",
      "  return np.add.reduce(sorted[indexer] * weights, axis=axis) / sumval\n"
     ]
    },
    {
     "data": {
      "image/png": "[encoded data removed]",
      "text/plain": [
       "<Figure size 576x288 with 1 Axes>"
      ]
     },
     "metadata": {},
     "output_type": "display_data"
    }
   ],
   "source": [
    "plt.style.use('ggplot')\n",
    "plt.figure(figsize=(8,4))\n",
    "sns.distplot(data[data['PA'] >= 200]['WAR'], bins=100)\n",
    "#plt.grid()\n",
    "plt.ylabel('Distribution');"
   ]
  },
  {
   "cell_type": "code",
   "execution_count": 9,
   "metadata": {},
   "outputs": [
    {
     "name": "stderr",
     "output_type": "stream",
     "text": [
      "C:\\Anaconda3\\lib\\site-packages\\scipy\\stats\\stats.py:1713: FutureWarning: Using a non-tuple sequence for multidimensional indexing is deprecated; use `arr[tuple(seq)]` instead of `arr[seq]`. In the future this will be interpreted as an array index, `arr[np.array(seq)]`, which will result either in an error or a different result.\n",
      "  return np.add.reduce(sorted[indexer] * weights, axis=axis) / sumval\n"
     ]
    },
    {
     "data": {
      "text/plain": [
       "<seaborn.axisgrid.JointGrid at 0x2bfba8265c0>"
      ]
     },
     "execution_count": 9,
     "metadata": {},
     "output_type": "execute_result"
    },
    {
     "data": {
      "image/png": "[encoded data removed]",
      "text/plain": [
       "<Figure size 432x432 with 3 Axes>"
      ]
     },
     "metadata": {},
     "output_type": "display_data"
    },
    {
     "data": {
      "image/png": "[encoded data removed]",
      "text/plain": [
       "<Figure size 432x432 with 3 Axes>"
      ]
     },
     "metadata": {},
     "output_type": "display_data"
    }
   ],
   "source": [
    "plt.style.use('fivethirtyeight')\n",
    "#fg = sns.FacetGrid(data=data[mask], hue='WAR')\n",
    "#fg.map(sns.jointplot, 'Off', 'Def')\n",
    "sns.jointplot(data=data[mask], x='Off', y='Def', kind='reg')\n",
    "sns.jointplot(data=data[mask], x='Off', y='Def', kind='hex')"
   ]
  },
  {
   "cell_type": "code",
   "execution_count": 10,
   "metadata": {},
   "outputs": [
    {
     "data": {
      "text/plain": [
       "<matplotlib.axes._subplots.AxesSubplot at 0x2bfbb1719b0>"
      ]
     },
     "execution_count": 10,
     "metadata": {},
     "output_type": "execute_result"
    },
    {
     "data": {
      "image/png": "[encoded data removed]",
      "text/plain": [
       "<Figure size 432x432 with 2 Axes>"
      ]
     },
     "metadata": {},
     "output_type": "display_data"
    }
   ],
   "source": [
    "plt.figure(figsize=(6,6))\n",
    "sns.heatmap(data[mask].corr(), cmap='viridis')"
   ]
  },
  {
   "cell_type": "code",
   "execution_count": 11,
   "metadata": {},
   "outputs": [],
   "source": [
    "# way too big as there are too many variables, much that don't matter\n",
    "#sns.pairplot(data[mask], )"
   ]
  },
  {
   "cell_type": "code",
   "execution_count": 12,
   "metadata": {},
   "outputs": [],
   "source": [
    "qual_data = data[mask][['G', 'PA', 'HR', 'R', 'RBI', 'SB', 'BB%',\n",
    "       'K%', 'ISO', 'BABIP', 'AVG', 'OBP', 'SLG', 'wOBA', 'wRC+', 'BsR', 'Off',\n",
    "       'Def', 'WAR', 'playerid']].copy()"
   ]
  },
  {
   "cell_type": "code",
   "execution_count": 13,
   "metadata": {},
   "outputs": [
    {
     "data": {
      "text/html": [
       "<div>\n",
       "<style scoped>\n",
       "    .dataframe tbody tr th:only-of-type {\n",
       "        vertical-align: middle;\n",
       "    }\n",
       "\n",
       "    .dataframe tbody tr th {\n",
       "        vertical-align: top;\n",
       "    }\n",
       "\n",
       "    .dataframe thead th {\n",
       "        text-align: right;\n",
       "    }\n",
       "</style>\n",
       "<table border=\"1\" class=\"dataframe\">\n",
       "  <thead>\n",
       "    <tr style=\"text-align: right;\">\n",
       "      <th></th>\n",
       "      <th>G</th>\n",
       "      <th>PA</th>\n",
       "      <th>HR</th>\n",
       "      <th>R</th>\n",
       "      <th>RBI</th>\n",
       "      <th>SB</th>\n",
       "      <th>BB%</th>\n",
       "      <th>K%</th>\n",
       "      <th>ISO</th>\n",
       "      <th>BABIP</th>\n",
       "      <th>AVG</th>\n",
       "      <th>OBP</th>\n",
       "      <th>SLG</th>\n",
       "      <th>wOBA</th>\n",
       "      <th>wRC+</th>\n",
       "      <th>BsR</th>\n",
       "      <th>Off</th>\n",
       "      <th>Def</th>\n",
       "      <th>WAR</th>\n",
       "      <th>playerid</th>\n",
       "    </tr>\n",
       "  </thead>\n",
       "  <tbody>\n",
       "    <tr>\n",
       "      <th>count</th>\n",
       "      <td>13037.000000</td>\n",
       "      <td>13037.000000</td>\n",
       "      <td>13037.000000</td>\n",
       "      <td>13037.000000</td>\n",
       "      <td>13037.000000</td>\n",
       "      <td>13015.000000</td>\n",
       "      <td>13037.000000</td>\n",
       "      <td>11876.000000</td>\n",
       "      <td>13037.000000</td>\n",
       "      <td>11876.000000</td>\n",
       "      <td>13037.000000</td>\n",
       "      <td>13037.000000</td>\n",
       "      <td>13037.000000</td>\n",
       "      <td>13037.000000</td>\n",
       "      <td>13037.000000</td>\n",
       "      <td>13037.000000</td>\n",
       "      <td>13037.000000</td>\n",
       "      <td>13037.000000</td>\n",
       "      <td>13037.000000</td>\n",
       "      <td>1.303700e+04</td>\n",
       "    </tr>\n",
       "    <tr>\n",
       "      <th>mean</th>\n",
       "      <td>143.714428</td>\n",
       "      <td>605.243231</td>\n",
       "      <td>13.435300</td>\n",
       "      <td>79.666948</td>\n",
       "      <td>71.702846</td>\n",
       "      <td>14.130311</td>\n",
       "      <td>0.089727</td>\n",
       "      <td>0.117070</td>\n",
       "      <td>0.143897</td>\n",
       "      <td>0.300579</td>\n",
       "      <td>0.281156</td>\n",
       "      <td>0.349969</td>\n",
       "      <td>0.425044</td>\n",
       "      <td>0.350160</td>\n",
       "      <td>111.035975</td>\n",
       "      <td>0.325911</td>\n",
       "      <td>9.010723</td>\n",
       "      <td>0.089476</td>\n",
       "      <td>2.968727</td>\n",
       "      <td>7.284853e+05</td>\n",
       "    </tr>\n",
       "    <tr>\n",
       "      <th>std</th>\n",
       "      <td>11.147660</td>\n",
       "      <td>60.161991</td>\n",
       "      <td>11.151777</td>\n",
       "      <td>20.955702</td>\n",
       "      <td>24.931374</td>\n",
       "      <td>15.029296</td>\n",
       "      <td>0.035012</td>\n",
       "      <td>0.058654</td>\n",
       "      <td>0.063292</td>\n",
       "      <td>0.031664</td>\n",
       "      <td>0.031691</td>\n",
       "      <td>0.039749</td>\n",
       "      <td>0.078123</td>\n",
       "      <td>0.043236</td>\n",
       "      <td>25.602243</td>\n",
       "      <td>2.660965</td>\n",
       "      <td>19.914890</td>\n",
       "      <td>10.703418</td>\n",
       "      <td>2.154196</td>\n",
       "      <td>4.496942e+05</td>\n",
       "    </tr>\n",
       "    <tr>\n",
       "      <th>min</th>\n",
       "      <td>104.000000</td>\n",
       "      <td>502.000000</td>\n",
       "      <td>0.000000</td>\n",
       "      <td>25.000000</td>\n",
       "      <td>0.000000</td>\n",
       "      <td>0.000000</td>\n",
       "      <td>0.009000</td>\n",
       "      <td>0.005000</td>\n",
       "      <td>0.018000</td>\n",
       "      <td>0.182000</td>\n",
       "      <td>0.168000</td>\n",
       "      <td>0.222000</td>\n",
       "      <td>0.225000</td>\n",
       "      <td>0.210000</td>\n",
       "      <td>23.000000</td>\n",
       "      <td>-12.600000</td>\n",
       "      <td>-60.100000</td>\n",
       "      <td>-44.800000</td>\n",
       "      <td>-4.000000</td>\n",
       "      <td>2.000000e+00</td>\n",
       "    </tr>\n",
       "    <tr>\n",
       "      <th>25%</th>\n",
       "      <td>136.000000</td>\n",
       "      <td>556.000000</td>\n",
       "      <td>4.000000</td>\n",
       "      <td>65.000000</td>\n",
       "      <td>53.000000</td>\n",
       "      <td>3.000000</td>\n",
       "      <td>0.064000</td>\n",
       "      <td>0.072000</td>\n",
       "      <td>0.095000</td>\n",
       "      <td>0.279000</td>\n",
       "      <td>0.260000</td>\n",
       "      <td>0.323000</td>\n",
       "      <td>0.370000</td>\n",
       "      <td>0.321000</td>\n",
       "      <td>93.000000</td>\n",
       "      <td>-1.000000</td>\n",
       "      <td>-4.600000</td>\n",
       "      <td>-7.100000</td>\n",
       "      <td>1.500000</td>\n",
       "      <td>9.205000e+03</td>\n",
       "    </tr>\n",
       "    <tr>\n",
       "      <th>50%</th>\n",
       "      <td>145.000000</td>\n",
       "      <td>604.000000</td>\n",
       "      <td>11.000000</td>\n",
       "      <td>77.000000</td>\n",
       "      <td>69.000000</td>\n",
       "      <td>9.000000</td>\n",
       "      <td>0.086000</td>\n",
       "      <td>0.110000</td>\n",
       "      <td>0.135000</td>\n",
       "      <td>0.299000</td>\n",
       "      <td>0.279000</td>\n",
       "      <td>0.348000</td>\n",
       "      <td>0.419000</td>\n",
       "      <td>0.347000</td>\n",
       "      <td>110.000000</td>\n",
       "      <td>0.100000</td>\n",
       "      <td>7.400000</td>\n",
       "      <td>-0.800000</td>\n",
       "      <td>2.800000</td>\n",
       "      <td>1.004264e+06</td>\n",
       "    </tr>\n",
       "    <tr>\n",
       "      <th>75%</th>\n",
       "      <td>153.000000</td>\n",
       "      <td>652.000000</td>\n",
       "      <td>21.000000</td>\n",
       "      <td>92.000000</td>\n",
       "      <td>88.000000</td>\n",
       "      <td>20.000000</td>\n",
       "      <td>0.111000</td>\n",
       "      <td>0.154000</td>\n",
       "      <td>0.184000</td>\n",
       "      <td>0.321000</td>\n",
       "      <td>0.301000</td>\n",
       "      <td>0.374000</td>\n",
       "      <td>0.473000</td>\n",
       "      <td>0.376000</td>\n",
       "      <td>127.000000</td>\n",
       "      <td>1.300000</td>\n",
       "      <td>20.600000</td>\n",
       "      <td>6.800000</td>\n",
       "      <td>4.300000</td>\n",
       "      <td>1.009359e+06</td>\n",
       "    </tr>\n",
       "    <tr>\n",
       "      <th>max</th>\n",
       "      <td>165.000000</td>\n",
       "      <td>778.000000</td>\n",
       "      <td>73.000000</td>\n",
       "      <td>192.000000</td>\n",
       "      <td>191.000000</td>\n",
       "      <td>138.000000</td>\n",
       "      <td>0.376000</td>\n",
       "      <td>0.372000</td>\n",
       "      <td>0.536000</td>\n",
       "      <td>0.433000</td>\n",
       "      <td>0.440000</td>\n",
       "      <td>0.609000</td>\n",
       "      <td>0.863000</td>\n",
       "      <td>0.598000</td>\n",
       "      <td>244.000000</td>\n",
       "      <td>17.700000</td>\n",
       "      <td>119.200000</td>\n",
       "      <td>50.100000</td>\n",
       "      <td>15.000000</td>\n",
       "      <td>1.014467e+06</td>\n",
       "    </tr>\n",
       "  </tbody>\n",
       "</table>\n",
       "</div>"
      ],
      "text/plain": [
       "                  G            PA            HR             R           RBI  \\\n",
       "count  13037.000000  13037.000000  13037.000000  13037.000000  13037.000000   \n",
       "mean     143.714428    605.243231     13.435300     79.666948     71.702846   \n",
       "std       11.147660     60.161991     11.151777     20.955702     24.931374   \n",
       "min      104.000000    502.000000      0.000000     25.000000      0.000000   \n",
       "25%      136.000000    556.000000      4.000000     65.000000     53.000000   \n",
       "50%      145.000000    604.000000     11.000000     77.000000     69.000000   \n",
       "75%      153.000000    652.000000     21.000000     92.000000     88.000000   \n",
       "max      165.000000    778.000000     73.000000    192.000000    191.000000   \n",
       "\n",
       "                 SB           BB%            K%           ISO         BABIP  \\\n",
       "count  13015.000000  13037.000000  11876.000000  13037.000000  11876.000000   \n",
       "mean      14.130311      0.089727      0.117070      0.143897      0.300579   \n",
       "std       15.029296      0.035012      0.058654      0.063292      0.031664   \n",
       "min        0.000000      0.009000      0.005000      0.018000      0.182000   \n",
       "25%        3.000000      0.064000      0.072000      0.095000      0.279000   \n",
       "50%        9.000000      0.086000      0.110000      0.135000      0.299000   \n",
       "75%       20.000000      0.111000      0.154000      0.184000      0.321000   \n",
       "max      138.000000      0.376000      0.372000      0.536000      0.433000   \n",
       "\n",
       "                AVG           OBP           SLG          wOBA          wRC+  \\\n",
       "count  13037.000000  13037.000000  13037.000000  13037.000000  13037.000000   \n",
       "mean       0.281156      0.349969      0.425044      0.350160    111.035975   \n",
       "std        0.031691      0.039749      0.078123      0.043236     25.602243   \n",
       "min        0.168000      0.222000      0.225000      0.210000     23.000000   \n",
       "25%        0.260000      0.323000      0.370000      0.321000     93.000000   \n",
       "50%        0.279000      0.348000      0.419000      0.347000    110.000000   \n",
       "75%        0.301000      0.374000      0.473000      0.376000    127.000000   \n",
       "max        0.440000      0.609000      0.863000      0.598000    244.000000   \n",
       "\n",
       "                BsR           Off           Def           WAR      playerid  \n",
       "count  13037.000000  13037.000000  13037.000000  13037.000000  1.303700e+04  \n",
       "mean       0.325911      9.010723      0.089476      2.968727  7.284853e+05  \n",
       "std        2.660965     19.914890     10.703418      2.154196  4.496942e+05  \n",
       "min      -12.600000    -60.100000    -44.800000     -4.000000  2.000000e+00  \n",
       "25%       -1.000000     -4.600000     -7.100000      1.500000  9.205000e+03  \n",
       "50%        0.100000      7.400000     -0.800000      2.800000  1.004264e+06  \n",
       "75%        1.300000     20.600000      6.800000      4.300000  1.009359e+06  \n",
       "max       17.700000    119.200000     50.100000     15.000000  1.014467e+06  "
      ]
     },
     "execution_count": 13,
     "metadata": {},
     "output_type": "execute_result"
    }
   ],
   "source": [
    "qual_data.describe()"
   ]
  },
  {
   "cell_type": "code",
   "execution_count": 14,
   "metadata": {},
   "outputs": [
    {
     "data": {
      "text/html": [
       "<div>\n",
       "<style scoped>\n",
       "    .dataframe tbody tr th:only-of-type {\n",
       "        vertical-align: middle;\n",
       "    }\n",
       "\n",
       "    .dataframe tbody tr th {\n",
       "        vertical-align: top;\n",
       "    }\n",
       "\n",
       "    .dataframe thead th {\n",
       "        text-align: right;\n",
       "    }\n",
       "</style>\n",
       "<table border=\"1\" class=\"dataframe\">\n",
       "  <thead>\n",
       "    <tr style=\"text-align: right;\">\n",
       "      <th></th>\n",
       "      <th>G</th>\n",
       "      <th>PA</th>\n",
       "      <th>HR</th>\n",
       "      <th>R</th>\n",
       "      <th>RBI</th>\n",
       "      <th>SB</th>\n",
       "      <th>BB%</th>\n",
       "      <th>K%</th>\n",
       "      <th>ISO</th>\n",
       "      <th>BABIP</th>\n",
       "      <th>AVG</th>\n",
       "      <th>OBP</th>\n",
       "      <th>SLG</th>\n",
       "      <th>wOBA</th>\n",
       "      <th>wRC+</th>\n",
       "      <th>BsR</th>\n",
       "      <th>Off</th>\n",
       "      <th>Def</th>\n",
       "      <th>WAR</th>\n",
       "    </tr>\n",
       "    <tr>\n",
       "      <th>playerid</th>\n",
       "      <th></th>\n",
       "      <th></th>\n",
       "      <th></th>\n",
       "      <th></th>\n",
       "      <th></th>\n",
       "      <th></th>\n",
       "      <th></th>\n",
       "      <th></th>\n",
       "      <th></th>\n",
       "      <th></th>\n",
       "      <th></th>\n",
       "      <th></th>\n",
       "      <th></th>\n",
       "      <th></th>\n",
       "      <th></th>\n",
       "      <th></th>\n",
       "      <th></th>\n",
       "      <th></th>\n",
       "      <th></th>\n",
       "    </tr>\n",
       "  </thead>\n",
       "  <tbody>\n",
       "    <tr>\n",
       "      <th>2</th>\n",
       "      <td>1817</td>\n",
       "      <td>7676</td>\n",
       "      <td>239</td>\n",
       "      <td>902</td>\n",
       "      <td>1128.0</td>\n",
       "      <td>70.0</td>\n",
       "      <td>0.549</td>\n",
       "      <td>1.561</td>\n",
       "      <td>2.012</td>\n",
       "      <td>3.706</td>\n",
       "      <td>3.505</td>\n",
       "      <td>3.866</td>\n",
       "      <td>5.517</td>\n",
       "      <td>3.998</td>\n",
       "      <td>1185.0</td>\n",
       "      <td>-5.5</td>\n",
       "      <td>-13.9</td>\n",
       "      <td>-46.0</td>\n",
       "      <td>20.2</td>\n",
       "    </tr>\n",
       "    <tr>\n",
       "      <th>10</th>\n",
       "      <td>984</td>\n",
       "      <td>4353</td>\n",
       "      <td>29</td>\n",
       "      <td>562</td>\n",
       "      <td>305.0</td>\n",
       "      <td>103.0</td>\n",
       "      <td>0.471</td>\n",
       "      <td>0.534</td>\n",
       "      <td>0.525</td>\n",
       "      <td>2.081</td>\n",
       "      <td>1.952</td>\n",
       "      <td>2.418</td>\n",
       "      <td>2.475</td>\n",
       "      <td>2.204</td>\n",
       "      <td>637.0</td>\n",
       "      <td>12.2</td>\n",
       "      <td>-31.7</td>\n",
       "      <td>32.3</td>\n",
       "      <td>14.5</td>\n",
       "    </tr>\n",
       "    <tr>\n",
       "      <th>11</th>\n",
       "      <td>1156</td>\n",
       "      <td>5171</td>\n",
       "      <td>106</td>\n",
       "      <td>741</td>\n",
       "      <td>583.0</td>\n",
       "      <td>157.0</td>\n",
       "      <td>0.583</td>\n",
       "      <td>1.098</td>\n",
       "      <td>1.075</td>\n",
       "      <td>2.557</td>\n",
       "      <td>2.312</td>\n",
       "      <td>2.745</td>\n",
       "      <td>3.387</td>\n",
       "      <td>2.674</td>\n",
       "      <td>792.0</td>\n",
       "      <td>19.4</td>\n",
       "      <td>18.3</td>\n",
       "      <td>64.0</td>\n",
       "      <td>25.7</td>\n",
       "    </tr>\n",
       "    <tr>\n",
       "      <th>13</th>\n",
       "      <td>419</td>\n",
       "      <td>1644</td>\n",
       "      <td>63</td>\n",
       "      <td>205</td>\n",
       "      <td>260.0</td>\n",
       "      <td>14.0</td>\n",
       "      <td>0.194</td>\n",
       "      <td>0.412</td>\n",
       "      <td>0.605</td>\n",
       "      <td>0.876</td>\n",
       "      <td>0.842</td>\n",
       "      <td>0.993</td>\n",
       "      <td>1.448</td>\n",
       "      <td>1.037</td>\n",
       "      <td>314.0</td>\n",
       "      <td>-1.1</td>\n",
       "      <td>8.5</td>\n",
       "      <td>-39.1</td>\n",
       "      <td>2.3</td>\n",
       "    </tr>\n",
       "    <tr>\n",
       "      <th>15</th>\n",
       "      <td>1083</td>\n",
       "      <td>4593</td>\n",
       "      <td>249</td>\n",
       "      <td>656</td>\n",
       "      <td>700.0</td>\n",
       "      <td>46.0</td>\n",
       "      <td>0.965</td>\n",
       "      <td>1.508</td>\n",
       "      <td>1.754</td>\n",
       "      <td>1.969</td>\n",
       "      <td>1.804</td>\n",
       "      <td>2.544</td>\n",
       "      <td>3.556</td>\n",
       "      <td>2.612</td>\n",
       "      <td>865.0</td>\n",
       "      <td>2.5</td>\n",
       "      <td>145.0</td>\n",
       "      <td>15.5</td>\n",
       "      <td>31.0</td>\n",
       "    </tr>\n",
       "    <tr>\n",
       "      <th>...</th>\n",
       "      <td>...</td>\n",
       "      <td>...</td>\n",
       "      <td>...</td>\n",
       "      <td>...</td>\n",
       "      <td>...</td>\n",
       "      <td>...</td>\n",
       "      <td>...</td>\n",
       "      <td>...</td>\n",
       "      <td>...</td>\n",
       "      <td>...</td>\n",
       "      <td>...</td>\n",
       "      <td>...</td>\n",
       "      <td>...</td>\n",
       "      <td>...</td>\n",
       "      <td>...</td>\n",
       "      <td>...</td>\n",
       "      <td>...</td>\n",
       "      <td>...</td>\n",
       "      <td>...</td>\n",
       "    </tr>\n",
       "    <tr>\n",
       "      <th>1014432</th>\n",
       "      <td>578</td>\n",
       "      <td>2460</td>\n",
       "      <td>133</td>\n",
       "      <td>328</td>\n",
       "      <td>430.0</td>\n",
       "      <td>11.0</td>\n",
       "      <td>0.369</td>\n",
       "      <td>0.614</td>\n",
       "      <td>0.911</td>\n",
       "      <td>1.112</td>\n",
       "      <td>1.094</td>\n",
       "      <td>1.377</td>\n",
       "      <td>2.006</td>\n",
       "      <td>1.523</td>\n",
       "      <td>481.0</td>\n",
       "      <td>1.5</td>\n",
       "      <td>64.6</td>\n",
       "      <td>-26.8</td>\n",
       "      <td>12.2</td>\n",
       "    </tr>\n",
       "    <tr>\n",
       "      <th>1014442</th>\n",
       "      <td>128</td>\n",
       "      <td>512</td>\n",
       "      <td>13</td>\n",
       "      <td>57</td>\n",
       "      <td>40.0</td>\n",
       "      <td>5.0</td>\n",
       "      <td>0.049</td>\n",
       "      <td>0.137</td>\n",
       "      <td>0.151</td>\n",
       "      <td>0.271</td>\n",
       "      <td>0.252</td>\n",
       "      <td>0.291</td>\n",
       "      <td>0.403</td>\n",
       "      <td>0.306</td>\n",
       "      <td>80.0</td>\n",
       "      <td>0.7</td>\n",
       "      <td>-12.0</td>\n",
       "      <td>-1.3</td>\n",
       "      <td>0.4</td>\n",
       "    </tr>\n",
       "    <tr>\n",
       "      <th>1014444</th>\n",
       "      <td>997</td>\n",
       "      <td>4082</td>\n",
       "      <td>50</td>\n",
       "      <td>521</td>\n",
       "      <td>613.0</td>\n",
       "      <td>137.0</td>\n",
       "      <td>0.319</td>\n",
       "      <td>0.539</td>\n",
       "      <td>0.970</td>\n",
       "      <td>2.268</td>\n",
       "      <td>2.136</td>\n",
       "      <td>2.401</td>\n",
       "      <td>3.107</td>\n",
       "      <td>2.612</td>\n",
       "      <td>881.0</td>\n",
       "      <td>-3.3</td>\n",
       "      <td>122.6</td>\n",
       "      <td>25.8</td>\n",
       "      <td>30.4</td>\n",
       "    </tr>\n",
       "    <tr>\n",
       "      <th>1014455</th>\n",
       "      <td>1007</td>\n",
       "      <td>4122</td>\n",
       "      <td>149</td>\n",
       "      <td>511</td>\n",
       "      <td>576.0</td>\n",
       "      <td>8.0</td>\n",
       "      <td>0.688</td>\n",
       "      <td>1.078</td>\n",
       "      <td>1.255</td>\n",
       "      <td>2.157</td>\n",
       "      <td>1.998</td>\n",
       "      <td>2.486</td>\n",
       "      <td>3.254</td>\n",
       "      <td>2.560</td>\n",
       "      <td>885.0</td>\n",
       "      <td>-2.0</td>\n",
       "      <td>123.8</td>\n",
       "      <td>-59.8</td>\n",
       "      <td>21.1</td>\n",
       "    </tr>\n",
       "    <tr>\n",
       "      <th>1014467</th>\n",
       "      <td>304</td>\n",
       "      <td>1284</td>\n",
       "      <td>29</td>\n",
       "      <td>156</td>\n",
       "      <td>189.0</td>\n",
       "      <td>45.0</td>\n",
       "      <td>0.177</td>\n",
       "      <td>0.207</td>\n",
       "      <td>0.327</td>\n",
       "      <td>0.639</td>\n",
       "      <td>0.599</td>\n",
       "      <td>0.729</td>\n",
       "      <td>0.927</td>\n",
       "      <td>0.792</td>\n",
       "      <td>282.0</td>\n",
       "      <td>6.6</td>\n",
       "      <td>67.4</td>\n",
       "      <td>4.5</td>\n",
       "      <td>12.1</td>\n",
       "    </tr>\n",
       "  </tbody>\n",
       "</table>\n",
       "<p>2830 rows × 19 columns</p>\n",
       "</div>"
      ],
      "text/plain": [
       "             G    PA   HR    R     RBI     SB    BB%     K%    ISO  BABIP  \\\n",
       "playerid                                                                    \n",
       "2         1817  7676  239  902  1128.0   70.0  0.549  1.561  2.012  3.706   \n",
       "10         984  4353   29  562   305.0  103.0  0.471  0.534  0.525  2.081   \n",
       "11        1156  5171  106  741   583.0  157.0  0.583  1.098  1.075  2.557   \n",
       "13         419  1644   63  205   260.0   14.0  0.194  0.412  0.605  0.876   \n",
       "15        1083  4593  249  656   700.0   46.0  0.965  1.508  1.754  1.969   \n",
       "...        ...   ...  ...  ...     ...    ...    ...    ...    ...    ...   \n",
       "1014432    578  2460  133  328   430.0   11.0  0.369  0.614  0.911  1.112   \n",
       "1014442    128   512   13   57    40.0    5.0  0.049  0.137  0.151  0.271   \n",
       "1014444    997  4082   50  521   613.0  137.0  0.319  0.539  0.970  2.268   \n",
       "1014455   1007  4122  149  511   576.0    8.0  0.688  1.078  1.255  2.157   \n",
       "1014467    304  1284   29  156   189.0   45.0  0.177  0.207  0.327  0.639   \n",
       "\n",
       "            AVG    OBP    SLG   wOBA    wRC+   BsR    Off   Def   WAR  \n",
       "playerid                                                               \n",
       "2         3.505  3.866  5.517  3.998  1185.0  -5.5  -13.9 -46.0  20.2  \n",
       "10        1.952  2.418  2.475  2.204   637.0  12.2  -31.7  32.3  14.5  \n",
       "11        2.312  2.745  3.387  2.674   792.0  19.4   18.3  64.0  25.7  \n",
       "13        0.842  0.993  1.448  1.037   314.0  -1.1    8.5 -39.1   2.3  \n",
       "15        1.804  2.544  3.556  2.612   865.0   2.5  145.0  15.5  31.0  \n",
       "...         ...    ...    ...    ...     ...   ...    ...   ...   ...  \n",
       "1014432   1.094  1.377  2.006  1.523   481.0   1.5   64.6 -26.8  12.2  \n",
       "1014442   0.252  0.291  0.403  0.306    80.0   0.7  -12.0  -1.3   0.4  \n",
       "1014444   2.136  2.401  3.107  2.612   881.0  -3.3  122.6  25.8  30.4  \n",
       "1014455   1.998  2.486  3.254  2.560   885.0  -2.0  123.8 -59.8  21.1  \n",
       "1014467   0.599  0.729  0.927  0.792   282.0   6.6   67.4   4.5  12.1  \n",
       "\n",
       "[2830 rows x 19 columns]"
      ]
     },
     "execution_count": 14,
     "metadata": {},
     "output_type": "execute_result"
    }
   ],
   "source": [
    "pgp = qual_data.groupby('playerid')\n",
    "pgp.sum()"
   ]
  },
  {
   "cell_type": "code",
   "execution_count": 15,
   "metadata": {},
   "outputs": [],
   "source": [
    "#player_szn = qual_data.groupby(['playerid', 'Season'])"
   ]
  },
  {
   "cell_type": "code",
   "execution_count": 16,
   "metadata": {},
   "outputs": [],
   "source": [
    "import numpy as np\n",
    "cov_qual_mat = pd.DataFrame(np.cov(qual_data))\n"
   ]
  },
  {
   "cell_type": "code",
   "execution_count": 17,
   "metadata": {},
   "outputs": [
    {
     "data": {
      "text/plain": [
       "(13037, 20)"
      ]
     },
     "execution_count": 17,
     "metadata": {},
     "output_type": "execute_result"
    }
   ],
   "source": [
    "qual_data.shape"
   ]
  },
  {
   "cell_type": "code",
   "execution_count": 18,
   "metadata": {},
   "outputs": [
    {
     "data": {
      "text/plain": [
       "array([[90.15270029, 61.39534428, 18.48722852, 15.70984982, 26.09728823],\n",
       "       [30.78846927, 11.91084929, 37.96609437, 25.66942256, 24.54717304],\n",
       "       [ 4.56272753, 38.64270652, 98.37031819, 37.96235125, 48.53389363],\n",
       "       [79.29091337, 83.18546338, 41.15885268, 88.55448161, 66.49750123]])"
      ]
     },
     "execution_count": 18,
     "metadata": {},
     "output_type": "execute_result"
    }
   ],
   "source": [
    "n = 4\n",
    "m = 5\n",
    "A = np.random.rand(n*m).reshape(4,5)*100\n",
    "A"
   ]
  },
  {
   "cell_type": "code",
   "execution_count": 19,
   "metadata": {},
   "outputs": [
    {
     "data": {
      "text/plain": [
       "array([[67.61452522, 46.04650821, 13.86542139, 11.78238737, 19.57296617],\n",
       "       [23.09135195,  8.93313697, 28.47457078, 19.25206692, 18.41037978],\n",
       "       [ 3.42204565, 28.98202989, 73.77773864, 28.47176344, 36.40042022],\n",
       "       [59.46818503, 62.38909753, 30.86913951, 66.41586121, 49.87312592]])"
      ]
     },
     "execution_count": 19,
     "metadata": {},
     "output_type": "execute_result"
    }
   ],
   "source": [
    "a = A - np.matmul(np.eye(n,n), A*(1/n))\n",
    "a"
   ]
  },
  {
   "cell_type": "code",
   "execution_count": 20,
   "metadata": {},
   "outputs": [
    {
     "name": "stdout",
     "output_type": "stream",
     "text": [
      "(5, 4) x (4, 5)\n"
     ]
    }
   ],
   "source": [
    "print(a.T.shape, 'x',a.shape)\n",
    "ata = np.matmul(a.T, a)"
   ]
  },
  {
   "cell_type": "code",
   "execution_count": 21,
   "metadata": {},
   "outputs": [
    {
     "data": {
      "text/plain": [
       "array([[8653.10998255, 7129.03522562, 3683.222709  , 5288.27917791,\n",
       "        4838.96555393],\n",
       "       [7129.03522562, 6932.43940231, 4956.94786288, 5683.31428902,\n",
       "        5232.22657636],\n",
       "       [3683.222709  , 4956.94786288, 7399.10958456, 4862.34491499,\n",
       "        5020.6962577 ],\n",
       "       [5288.27917791, 5683.31428902, 4862.34491499, 5731.174666  ,\n",
       "        4933.80489596],\n",
       "       [4838.96555393, 5232.22657636, 5020.6962577 , 4933.80489596,\n",
       "        4534.36237041]])"
      ]
     },
     "execution_count": 21,
     "metadata": {},
     "output_type": "execute_result"
    }
   ],
   "source": [
    "ata"
   ]
  },
  {
   "cell_type": "code",
   "execution_count": 22,
   "metadata": {},
   "outputs": [
    {
     "data": {
      "text/plain": [
       "array([[2163.27749564, 1782.25880641,  920.80567725, 1322.06979448,\n",
       "        1209.74138848],\n",
       "       [1782.25880641, 1733.10985058, 1239.23696572, 1420.82857226,\n",
       "        1308.05664409],\n",
       "       [ 920.80567725, 1239.23696572, 1849.77739614, 1215.58622875,\n",
       "        1255.17406442],\n",
       "       [1322.06979448, 1420.82857226, 1215.58622875, 1432.7936665 ,\n",
       "        1233.45122399],\n",
       "       [1209.74138848, 1308.05664409, 1255.17406442, 1233.45122399,\n",
       "        1133.5905926 ]])"
      ]
     },
     "execution_count": 22,
     "metadata": {},
     "output_type": "execute_result"
    }
   ],
   "source": [
    "V = ata / n\n",
    "V"
   ]
  },
  {
   "cell_type": "code",
   "execution_count": 23,
   "metadata": {},
   "outputs": [
    {
     "data": {
      "image/png": "[encoded data removed]",
      "text/plain": [
       "<Figure size 432x432 with 2 Axes>"
      ]
     },
     "metadata": {},
     "output_type": "display_data"
    }
   ],
   "source": [
    "plt.figure(figsize=(6, 6))\n",
    "sns.heatmap(V, cmap='viridis',annot=True);"
   ]
  },
  {
   "cell_type": "code",
   "execution_count": 24,
   "metadata": {},
   "outputs": [],
   "source": [
    "A = pd.DataFrame(A, columns=['stat%a' % i for i in range(A.shape[1]) ])"
   ]
  },
  {
   "cell_type": "code",
   "execution_count": 25,
   "metadata": {},
   "outputs": [
    {
     "name": "stdout",
     "output_type": "stream",
     "text": [
      "       stat0      stat1      stat2      stat3      stat4\n",
      "0  90.152700  61.395344  18.487229  15.709850  26.097288\n",
      "1  30.788469  11.910849  37.966094  25.669423  24.547173\n",
      "2   4.562728  38.642707  98.370318  37.962351  48.533894\n",
      "3  79.290913  83.185463  41.158853  88.554482  66.497501\n",
      "       stat0      stat1      stat2      stat3      stat4\n",
      "0  51.198703  48.783591  48.995623  41.974026  41.418964\n",
      "1  51.198703  48.783591  48.995623  41.974026  41.418964\n",
      "2  51.198703  48.783591  48.995623  41.974026  41.418964\n",
      "3  51.198703  48.783591  48.995623  41.974026  41.418964\n",
      "       stat0      stat1      stat2      stat3      stat4\n",
      "0  38.953998  12.611753 -30.508395 -26.264176 -15.321676\n",
      "1 -20.410233 -36.872742 -11.029529 -16.304604 -16.871791\n",
      "2 -46.635975 -10.140884  49.374695  -4.011675   7.114930\n",
      "3  28.092211  34.401873  -7.836771  46.580455  25.078537\n",
      "<class 'pandas.core.frame.DataFrame'>\n"
     ]
    }
   ],
   "source": [
    "ones = np.ones((n,1))\n",
    "means = ones @ ones.T @ (A * (1/n)) \n",
    "dev = A - means\n",
    "print(A)\n",
    "print(means)\n",
    "print(dev)\n",
    "print(dev.__class__)"
   ]
  },
  {
   "cell_type": "code",
   "execution_count": 26,
   "metadata": {},
   "outputs": [
    {
     "data": {
      "text/plain": [
       "True"
      ]
     },
     "execution_count": 26,
     "metadata": {},
     "output_type": "execute_result"
    }
   ],
   "source": [
    "np.mean(A.iloc[:,0]) == means.iloc[0,0]"
   ]
  },
  {
   "cell_type": "code",
   "execution_count": 27,
   "metadata": {},
   "outputs": [
    {
     "data": {
      "text/html": [
       "<div>\n",
       "<style scoped>\n",
       "    .dataframe tbody tr th:only-of-type {\n",
       "        vertical-align: middle;\n",
       "    }\n",
       "\n",
       "    .dataframe tbody tr th {\n",
       "        vertical-align: top;\n",
       "    }\n",
       "\n",
       "    .dataframe thead th {\n",
       "        text-align: right;\n",
       "    }\n",
       "</style>\n",
       "<table border=\"1\" class=\"dataframe\">\n",
       "  <thead>\n",
       "    <tr style=\"text-align: right;\">\n",
       "      <th></th>\n",
       "      <th>stat0</th>\n",
       "      <th>stat1</th>\n",
       "      <th>stat2</th>\n",
       "      <th>stat3</th>\n",
       "      <th>stat4</th>\n",
       "    </tr>\n",
       "  </thead>\n",
       "  <tbody>\n",
       "    <tr>\n",
       "      <th>stat0</th>\n",
       "      <td>15383.306636</td>\n",
       "      <td>12673.840401</td>\n",
       "      <td>6547.951483</td>\n",
       "      <td>9401.385205</td>\n",
       "      <td>8602.605429</td>\n",
       "    </tr>\n",
       "    <tr>\n",
       "      <th>stat1</th>\n",
       "      <td>12673.840401</td>\n",
       "      <td>12324.336715</td>\n",
       "      <td>8812.351756</td>\n",
       "      <td>10103.669847</td>\n",
       "      <td>9301.736136</td>\n",
       "    </tr>\n",
       "    <tr>\n",
       "      <th>stat2</th>\n",
       "      <td>6547.951483</td>\n",
       "      <td>8812.351756</td>\n",
       "      <td>13153.972595</td>\n",
       "      <td>8644.168738</td>\n",
       "      <td>8925.682236</td>\n",
       "    </tr>\n",
       "    <tr>\n",
       "      <th>stat3</th>\n",
       "      <td>9401.385205</td>\n",
       "      <td>10103.669847</td>\n",
       "      <td>8644.168738</td>\n",
       "      <td>10188.754962</td>\n",
       "      <td>8771.208704</td>\n",
       "    </tr>\n",
       "    <tr>\n",
       "      <th>stat4</th>\n",
       "      <td>8602.605429</td>\n",
       "      <td>9301.736136</td>\n",
       "      <td>8925.682236</td>\n",
       "      <td>8771.208704</td>\n",
       "      <td>8061.088659</td>\n",
       "    </tr>\n",
       "  </tbody>\n",
       "</table>\n",
       "</div>"
      ],
      "text/plain": [
       "              stat0         stat1         stat2         stat3        stat4\n",
       "stat0  15383.306636  12673.840401   6547.951483   9401.385205  8602.605429\n",
       "stat1  12673.840401  12324.336715   8812.351756  10103.669847  9301.736136\n",
       "stat2   6547.951483   8812.351756  13153.972595   8644.168738  8925.682236\n",
       "stat3   9401.385205  10103.669847   8644.168738  10188.754962  8771.208704\n",
       "stat4   8602.605429   9301.736136   8925.682236   8771.208704  8061.088659"
      ]
     },
     "execution_count": 27,
     "metadata": {},
     "output_type": "execute_result"
    }
   ],
   "source": [
    "cross = A.T @ A\n",
    "cross"
   ]
  },
  {
   "cell_type": "code",
   "execution_count": null,
   "metadata": {},
   "outputs": [],
   "source": []
  },
  {
   "cell_type": "code",
   "execution_count": 29,
   "metadata": {},
   "outputs": [
    {
     "data": {
      "text/plain": [
       "<matplotlib.axes._subplots.AxesSubplot at 0x2bfbb2ebf28>"
      ]
     },
     "execution_count": 29,
     "metadata": {},
     "output_type": "execute_result"
    },
    {
     "data": {
      "image/png": "[encoded data removed]",
      "text/plain": [
       "<Figure size 432x288 with 2 Axes>"
      ]
     },
     "metadata": {},
     "output_type": "display_data"
    }
   ],
   "source": [
    "eigvals, eigvecs = np.linalg.eig(A.T @ A)\n",
    "sns.heatmap(np.diag(np.round(eigvals, 3)), annot=True)"
   ]
  },
  {
   "cell_type": "code",
   "execution_count": 30,
   "metadata": {},
   "outputs": [
    {
     "data": {
      "text/plain": [
       "<matplotlib.axes._subplots.AxesSubplot at 0x2bfbb143278>"
      ]
     },
     "execution_count": 30,
     "metadata": {},
     "output_type": "execute_result"
    },
    {
     "data": {
      "image/png": "[encoded data removed]",
      "text/plain": [
       "<Figure size 432x288 with 2 Axes>"
      ]
     },
     "metadata": {},
     "output_type": "display_data"
    }
   ],
   "source": [
    "sns.heatmap(eigvecs)"
   ]
  },
  {
   "cell_type": "code",
   "execution_count": 34,
   "metadata": {},
   "outputs": [
    {
     "data": {
      "text/plain": [
       "1.5"
      ]
     },
     "execution_count": 34,
     "metadata": {},
     "output_type": "execute_result"
    }
   ],
   "source": [
    "x = np.arange(4)\n",
    "pb = np.array([.125, .375, .375, .125])\n",
    "np.dot(x, pb)"
   ]
  },
  {
   "cell_type": "code",
   "execution_count": 38,
   "metadata": {},
   "outputs": [
    {
     "data": {
      "text/plain": [
       "1.5"
      ]
     },
     "execution_count": 38,
     "metadata": {},
     "output_type": "execute_result"
    }
   ],
   "source": [
    "sum(x.T * pb)"
   ]
  },
  {
   "cell_type": "code",
   "execution_count": 41,
   "metadata": {},
   "outputs": [],
   "source": [
    "x2 = np.arange(6)\n",
    "pb2 = np.array([0.1, 0.2, 0.3, 0.3, 0.05, 0.05])"
   ]
  },
  {
   "cell_type": "code",
   "execution_count": 42,
   "metadata": {},
   "outputs": [
    {
     "data": {
      "text/plain": [
       "2.15"
      ]
     },
     "execution_count": 42,
     "metadata": {},
     "output_type": "execute_result"
    }
   ],
   "source": [
    "np.dot(x2, pb2)"
   ]
  },
  {
   "cell_type": "code",
   "execution_count": 44,
   "metadata": {},
   "outputs": [],
   "source": [
    "pb3 = np.array([.35, .35, .15, .15])\n",
    "exp3 = np.dot(x, pb3)"
   ]
  },
  {
   "cell_type": "code",
   "execution_count": 46,
   "metadata": {},
   "outputs": [
    {
     "data": {
      "text/plain": [
       "1.09"
      ]
     },
     "execution_count": 46,
     "metadata": {},
     "output_type": "execute_result"
    }
   ],
   "source": [
    "var = np.dot(x**2, pb3) - exp3**2\n",
    "var"
   ]
  },
  {
   "cell_type": "code",
   "execution_count": 47,
   "metadata": {},
   "outputs": [
    {
     "data": {
      "text/plain": [
       "1.044030650891055"
      ]
     },
     "execution_count": 47,
     "metadata": {},
     "output_type": "execute_result"
    }
   ],
   "source": [
    "sdev = np.sqrt(var)\n",
    "sdev"
   ]
  },
  {
   "cell_type": "code",
   "execution_count": 48,
   "metadata": {},
   "outputs": [
    {
     "name": "stdout",
     "output_type": "stream",
     "text": [
      "1.25\n",
      "1.118033988749895\n"
     ]
    }
   ],
   "source": [
    "print(np.var(x))\n",
    "print(np.std(x))"
   ]
  },
  {
   "cell_type": "code",
   "execution_count": 54,
   "metadata": {},
   "outputs": [
    {
     "name": "stderr",
     "output_type": "stream",
     "text": [
      "C:\\Anaconda3\\lib\\site-packages\\scipy\\stats\\stats.py:1713: FutureWarning: Using a non-tuple sequence for multidimensional indexing is deprecated; use `arr[tuple(seq)]` instead of `arr[seq]`. In the future this will be interpreted as an array index, `arr[np.array(seq)]`, which will result either in an error or a different result.\n",
      "  return np.add.reduce(sorted[indexer] * weights, axis=axis) / sumval\n"
     ]
    },
    {
     "data": {
      "text/plain": [
       "<matplotlib.axes._subplots.AxesSubplot at 0x2bfbc740eb8>"
      ]
     },
     "execution_count": 54,
     "metadata": {},
     "output_type": "execute_result"
    },
    {
     "data": {
      "image/png": "[encoded data removed]",
      "text/plain": [
       "<Figure size 432x288 with 1 Axes>"
      ]
     },
     "metadata": {},
     "output_type": "display_data"
    }
   ],
   "source": [
    "sns.distplot(x)"
   ]
  },
  {
   "cell_type": "code",
   "execution_count": 51,
   "metadata": {},
   "outputs": [
    {
     "data": {
      "text/html": [
       "<div>\n",
       "<style scoped>\n",
       "    .dataframe tbody tr th:only-of-type {\n",
       "        vertical-align: middle;\n",
       "    }\n",
       "\n",
       "    .dataframe tbody tr th {\n",
       "        vertical-align: top;\n",
       "    }\n",
       "\n",
       "    .dataframe thead th {\n",
       "        text-align: right;\n",
       "    }\n",
       "</style>\n",
       "<table border=\"1\" class=\"dataframe\">\n",
       "  <thead>\n",
       "    <tr style=\"text-align: right;\">\n",
       "      <th></th>\n",
       "      <th>stat0</th>\n",
       "      <th>stat1</th>\n",
       "      <th>stat2</th>\n",
       "      <th>stat3</th>\n",
       "      <th>stat4</th>\n",
       "    </tr>\n",
       "  </thead>\n",
       "  <tbody>\n",
       "    <tr>\n",
       "      <th>0</th>\n",
       "      <td>90.152700</td>\n",
       "      <td>61.395344</td>\n",
       "      <td>18.487229</td>\n",
       "      <td>15.709850</td>\n",
       "      <td>26.097288</td>\n",
       "    </tr>\n",
       "    <tr>\n",
       "      <th>1</th>\n",
       "      <td>30.788469</td>\n",
       "      <td>11.910849</td>\n",
       "      <td>37.966094</td>\n",
       "      <td>25.669423</td>\n",
       "      <td>24.547173</td>\n",
       "    </tr>\n",
       "    <tr>\n",
       "      <th>2</th>\n",
       "      <td>4.562728</td>\n",
       "      <td>38.642707</td>\n",
       "      <td>98.370318</td>\n",
       "      <td>37.962351</td>\n",
       "      <td>48.533894</td>\n",
       "    </tr>\n",
       "    <tr>\n",
       "      <th>3</th>\n",
       "      <td>79.290913</td>\n",
       "      <td>83.185463</td>\n",
       "      <td>41.158853</td>\n",
       "      <td>88.554482</td>\n",
       "      <td>66.497501</td>\n",
       "    </tr>\n",
       "  </tbody>\n",
       "</table>\n",
       "</div>"
      ],
      "text/plain": [
       "       stat0      stat1      stat2      stat3      stat4\n",
       "0  90.152700  61.395344  18.487229  15.709850  26.097288\n",
       "1  30.788469  11.910849  37.966094  25.669423  24.547173\n",
       "2   4.562728  38.642707  98.370318  37.962351  48.533894\n",
       "3  79.290913  83.185463  41.158853  88.554482  66.497501"
      ]
     },
     "execution_count": 51,
     "metadata": {},
     "output_type": "execute_result"
    }
   ],
   "source": [
    "A"
   ]
  },
  {
   "cell_type": "code",
   "execution_count": 52,
   "metadata": {},
   "outputs": [
    {
     "data": {
      "text/plain": [
       "stat0    51.198703\n",
       "stat1    48.783591\n",
       "stat2    48.995623\n",
       "stat3    41.974026\n",
       "stat4    41.418964\n",
       "dtype: float64"
      ]
     },
     "execution_count": 52,
     "metadata": {},
     "output_type": "execute_result"
    }
   ],
   "source": [
    "A.mean()"
   ]
  },
  {
   "cell_type": "code",
   "execution_count": 53,
   "metadata": {},
   "outputs": [
    {
     "data": {
      "text/plain": [
       "stat0    55.039691\n",
       "stat1    50.019025\n",
       "stat2    39.562474\n",
       "stat3    31.815887\n",
       "stat4    37.315591\n",
       "dtype: float64"
      ]
     },
     "execution_count": 53,
     "metadata": {},
     "output_type": "execute_result"
    }
   ],
   "source": [
    "A.median()"
   ]
  },
  {
   "cell_type": "code",
   "execution_count": 55,
   "metadata": {},
   "outputs": [
    {
     "data": {
      "text/plain": [
       "64"
      ]
     },
     "execution_count": 55,
     "metadata": {},
     "output_type": "execute_result"
    }
   ],
   "source": [
    "arr = np.array( (1, 3, 5, 7, 9, 11, 13, 15))\n",
    "arr.sum()\n"
   ]
  },
  {
   "cell_type": "code",
   "execution_count": 59,
   "metadata": {},
   "outputs": [],
   "source": [
    "arr_mean = arr.mean()"
   ]
  },
  {
   "cell_type": "code",
   "execution_count": 58,
   "metadata": {},
   "outputs": [
    {
     "data": {
      "text/plain": [
       "(15, 1)"
      ]
     },
     "execution_count": 58,
     "metadata": {},
     "output_type": "execute_result"
    }
   ],
   "source": [
    "arr.max(), arr.min()"
   ]
  },
  {
   "cell_type": "code",
   "execution_count": 62,
   "metadata": {},
   "outputs": [],
   "source": [
    "arr_std = np.sqrt(np.sum((arr - arr_mean)**2) / (arr.shape[0] - 1))"
   ]
  },
  {
   "cell_type": "code",
   "execution_count": 65,
   "metadata": {},
   "outputs": [
    {
     "name": "stdout",
     "output_type": "stream",
     "text": [
      "3.1010205144336442\n",
      "8.0\n",
      "12.898979485566356\n"
     ]
    }
   ],
   "source": [
    "print(arr_mean -  arr_std) \n",
    "print(arr_mean)\n",
    "print(arr_mean +  arr_std)"
   ]
  },
  {
   "cell_type": "code",
   "execution_count": 66,
   "metadata": {},
   "outputs": [],
   "source": [
    "arr2 = np.array([2,4,6,8])"
   ]
  },
  {
   "cell_type": "code",
   "execution_count": 68,
   "metadata": {},
   "outputs": [
    {
     "data": {
      "text/plain": [
       "(5.0, 2.23606797749979)"
      ]
     },
     "execution_count": 68,
     "metadata": {},
     "output_type": "execute_result"
    }
   ],
   "source": [
    "arr2.mean(), arr2.std()"
   ]
  },
  {
   "cell_type": "code",
   "execution_count": 74,
   "metadata": {},
   "outputs": [
    {
     "data": {
      "text/plain": [
       "3.0"
      ]
     },
     "execution_count": 74,
     "metadata": {},
     "output_type": "execute_result"
    }
   ],
   "source": [
    "np.percentile(arr2, 75) - np.percentile(arr2, 25)"
   ]
  },
  {
   "cell_type": "code",
   "execution_count": 75,
   "metadata": {},
   "outputs": [],
   "source": [
    "arr3 = np.array([17, 45, 3, 22, 10])"
   ]
  },
  {
   "cell_type": "code",
   "execution_count": 76,
   "metadata": {},
   "outputs": [
    {
     "data": {
      "text/plain": [
       "(22.0, 10.0)"
      ]
     },
     "execution_count": 76,
     "metadata": {},
     "output_type": "execute_result"
    }
   ],
   "source": [
    "np.percentile(arr3, 75), np.percentile(arr3, 25)"
   ]
  },
  {
   "cell_type": "code",
   "execution_count": 80,
   "metadata": {},
   "outputs": [
    {
     "ename": "AttributeError",
     "evalue": "module 'numpy' has no attribute 'skew'",
     "output_type": "error",
     "traceback": [
      "\u001b[1;31m---------------------------------------------------------------------------\u001b[0m",
      "\u001b[1;31mAttributeError\u001b[0m                            Traceback (most recent call last)",
      "\u001b[1;32m<ipython-input-80-56b3b10f78cb>\u001b[0m in \u001b[0;36m<module>\u001b[1;34m\u001b[0m\n\u001b[1;32m----> 1\u001b[1;33m \u001b[0mnp\u001b[0m\u001b[1;33m.\u001b[0m\u001b[0mskew\u001b[0m\u001b[1;33m(\u001b[0m\u001b[0marr3\u001b[0m\u001b[1;33m)\u001b[0m\u001b[1;33m\u001b[0m\u001b[0m\n\u001b[0m",
      "\u001b[1;31mAttributeError\u001b[0m: module 'numpy' has no attribute 'skew'"
     ]
    }
   ],
   "source": [
    "np.skew(arr3)"
   ]
  },
  {
   "cell_type": "code",
   "execution_count": 81,
   "metadata": {},
   "outputs": [],
   "source": [
    "import scipy.stats as stats"
   ]
  },
  {
   "cell_type": "code",
   "execution_count": 83,
   "metadata": {},
   "outputs": [
    {
     "data": {
      "text/plain": [
       "0.7860620674130082"
      ]
     },
     "execution_count": 83,
     "metadata": {},
     "output_type": "execute_result"
    }
   ],
   "source": [
    "stats.skew(arr3)"
   ]
  },
  {
   "cell_type": "code",
   "execution_count": 84,
   "metadata": {},
   "outputs": [
    {
     "data": {
      "text/plain": [
       "-0.5751399496633334"
      ]
     },
     "execution_count": 84,
     "metadata": {},
     "output_type": "execute_result"
    }
   ],
   "source": [
    "stats.kurtosis(arr3)"
   ]
  },
  {
   "cell_type": "code",
   "execution_count": 91,
   "metadata": {},
   "outputs": [
    {
     "data": {
      "text/plain": [
       "<matplotlib.axes._subplots.AxesSubplot at 0x2c0132def28>"
      ]
     },
     "execution_count": 91,
     "metadata": {},
     "output_type": "execute_result"
    },
    {
     "data": {
      "image/png": "[encoded data removed]",
      "text/plain": [
       "<Figure size 432x288 with 1 Axes>"
      ]
     },
     "metadata": {},
     "output_type": "display_data"
    }
   ],
   "source": [
    "sns.distplot(arr3)\n",
    "#plt.plot(np.median(arr3))"
   ]
  },
  {
   "cell_type": "code",
   "execution_count": 88,
   "metadata": {},
   "outputs": [
    {
     "data": {
      "text/plain": [
       "17.0"
      ]
     },
     "execution_count": 88,
     "metadata": {},
     "output_type": "execute_result"
    }
   ],
   "source": [
    "np.median(arr3)"
   ]
  },
  {
   "cell_type": "code",
   "execution_count": 92,
   "metadata": {},
   "outputs": [
    {
     "data": {
      "text/plain": [
       "27.5"
      ]
     },
     "execution_count": 92,
     "metadata": {},
     "output_type": "execute_result"
    }
   ],
   "source": [
    "arr4 = np.array([12, 17, 19, 22, 30, 65])\n",
    "arr4.mean()"
   ]
  },
  {
   "cell_type": "code",
   "execution_count": 98,
   "metadata": {},
   "outputs": [
    {
     "data": {
      "text/plain": [
       "36.0"
      ]
     },
     "execution_count": 98,
     "metadata": {},
     "output_type": "execute_result"
    }
   ],
   "source": [
    "arr4 = np.array([4, 10, 16])\n",
    "np.sum([(arr4 - arr4.mean())**2 / (arr4.shape[0] - 1)])"
   ]
  },
  {
   "cell_type": "code",
   "execution_count": 99,
   "metadata": {},
   "outputs": [
    {
     "data": {
      "text/plain": [
       "36.0"
      ]
     },
     "execution_count": 99,
     "metadata": {},
     "output_type": "execute_result"
    }
   ],
   "source": [
    "arr4.var(ddof=1)"
   ]
  },
  {
   "cell_type": "code",
   "execution_count": 100,
   "metadata": {},
   "outputs": [
    {
     "data": {
      "text/plain": [
       "2.0"
      ]
     },
     "execution_count": 100,
     "metadata": {},
     "output_type": "execute_result"
    }
   ],
   "source": [
    "arr5 = np.array([3, 5, 7])\n",
    "arr5.std(ddof=1)"
   ]
  },
  {
   "cell_type": "code",
   "execution_count": 101,
   "metadata": {},
   "outputs": [],
   "source": [
    "import scipy.optimize as optimize"
   ]
  },
  {
   "cell_type": "code",
   "execution_count": 112,
   "metadata": {},
   "outputs": [
    {
     "name": "stdout",
     "output_type": "stream",
     "text": [
      "Optimization terminated successfully.\n",
      "         Current function value: -1269865038.780749\n",
      "         Iterations: 1\n",
      "         Function evaluations: 64\n",
      "         Gradient evaluations: 16\n"
     ]
    }
   ],
   "source": [
    "res = optimize.minimize(lambda x: 3.5*x[0] + 0.3*x[1],  (1.3, 2.6), options={'disp': True})\n",
    "#res = optimize.minimize(lambda x: 3.5*x[0] + 0.3*x[1],  [(1.3, 2.6), (1.5, 2.2)], options={'disp': True})"
   ]
  },
  {
   "cell_type": "code",
   "execution_count": 113,
   "metadata": {},
   "outputs": [
    {
     "data": {
      "text/plain": [
       "      fun: -1269865038.780749\n",
       " hess_inv: array([[1, 0],\n",
       "       [0, 1]])\n",
       "      jac: array([0., 0.])\n",
       "  message: 'Optimization terminated successfully.'\n",
       "     nfev: 64\n",
       "      nit: 1\n",
       "     njev: 16\n",
       "   status: 0\n",
       "  success: True\n",
       "        x: array([-3.60172418e+08, -3.08719142e+07])"
      ]
     },
     "execution_count": 113,
     "metadata": {},
     "output_type": "execute_result"
    }
   ],
   "source": [
    "res"
   ]
  },
  {
   "cell_type": "code",
   "execution_count": 114,
   "metadata": {},
   "outputs": [
    {
     "data": {
      "text/plain": [
       "array([-3.60172418e+08, -3.08719142e+07])"
      ]
     },
     "execution_count": 114,
     "metadata": {},
     "output_type": "execute_result"
    }
   ],
   "source": [
    "res.x"
   ]
  },
  {
   "cell_type": "code",
   "execution_count": 115,
   "metadata": {},
   "outputs": [],
   "source": [
    "econ = pd.DataFrame([[2.3,8],[2.5, 9],[3.6, 13]], columns=['Growth', 'S&P500Returns'])"
   ]
  },
  {
   "cell_type": "code",
   "execution_count": 116,
   "metadata": {},
   "outputs": [
    {
     "data": {
      "text/html": [
       "<div>\n",
       "<style scoped>\n",
       "    .dataframe tbody tr th:only-of-type {\n",
       "        vertical-align: middle;\n",
       "    }\n",
       "\n",
       "    .dataframe tbody tr th {\n",
       "        vertical-align: top;\n",
       "    }\n",
       "\n",
       "    .dataframe thead th {\n",
       "        text-align: right;\n",
       "    }\n",
       "</style>\n",
       "<table border=\"1\" class=\"dataframe\">\n",
       "  <thead>\n",
       "    <tr style=\"text-align: right;\">\n",
       "      <th></th>\n",
       "      <th>Growth</th>\n",
       "      <th>S&amp;P500Returns</th>\n",
       "    </tr>\n",
       "  </thead>\n",
       "  <tbody>\n",
       "    <tr>\n",
       "      <th>0</th>\n",
       "      <td>2.3</td>\n",
       "      <td>8</td>\n",
       "    </tr>\n",
       "    <tr>\n",
       "      <th>1</th>\n",
       "      <td>2.5</td>\n",
       "      <td>9</td>\n",
       "    </tr>\n",
       "    <tr>\n",
       "      <th>2</th>\n",
       "      <td>3.6</td>\n",
       "      <td>13</td>\n",
       "    </tr>\n",
       "  </tbody>\n",
       "</table>\n",
       "</div>"
      ],
      "text/plain": [
       "   Growth  S&P500Returns\n",
       "0     2.3              8\n",
       "1     2.5              9\n",
       "2     3.6             13"
      ]
     },
     "execution_count": 116,
     "metadata": {},
     "output_type": "execute_result"
    }
   ],
   "source": [
    "econ"
   ]
  },
  {
   "cell_type": "code",
   "execution_count": 119,
   "metadata": {},
   "outputs": [
    {
     "data": {
      "text/plain": [
       "Growth            2.8\n",
       "S&P500Returns    10.0\n",
       "dtype: float64"
      ]
     },
     "execution_count": 119,
     "metadata": {},
     "output_type": "execute_result"
    }
   ],
   "source": [
    "econ.mean()"
   ]
  },
  {
   "cell_type": "code",
   "execution_count": 120,
   "metadata": {},
   "outputs": [
    {
     "data": {
      "text/plain": [
       "array([[16.245, 18.525, 26.79 ],\n",
       "       [18.525, 21.125, 30.55 ],\n",
       "       [26.79 , 30.55 , 44.18 ]])"
      ]
     },
     "execution_count": 120,
     "metadata": {},
     "output_type": "execute_result"
    }
   ],
   "source": [
    "np.cov(econ)"
   ]
  },
  {
   "cell_type": "code",
   "execution_count": 121,
   "metadata": {},
   "outputs": [
    {
     "data": {
      "text/plain": [
       "array([[1., 1., 1.],\n",
       "       [1., 1., 1.],\n",
       "       [1., 1., 1.]])"
      ]
     },
     "execution_count": 121,
     "metadata": {},
     "output_type": "execute_result"
    }
   ],
   "source": [
    "np.corrcoef(econ)"
   ]
  },
  {
   "cell_type": "code",
   "execution_count": 122,
   "metadata": {},
   "outputs": [
    {
     "name": "stdout",
     "output_type": "stream",
     "text": [
      "[[ 2.5  5. ]\n",
      " [ 5.  10. ]]\n",
      "[[1. 1.]\n",
      " [1. 1.]]\n"
     ]
    }
   ],
   "source": [
    "x = [6,7,8,9,10]\n",
    "y = [7,9,11,13,15]\n",
    "print(np.cov(x, y))\n",
    "print(np.corrcoef(x,y))"
   ]
  },
  {
   "cell_type": "code",
   "execution_count": 123,
   "metadata": {},
   "outputs": [],
   "source": [
    "arr = np.array([[1.2,4.0],\n",
    "[1.8, 5.0],\n",
    "[3.0, 9.0]])"
   ]
  },
  {
   "cell_type": "code",
   "execution_count": 131,
   "metadata": {},
   "outputs": [
    {
     "data": {
      "text/plain": [
       "array([[ 3.92,  4.48,  8.4 ],\n",
       "       [ 4.48,  5.12,  9.6 ],\n",
       "       [ 8.4 ,  9.6 , 18.  ]])"
      ]
     },
     "execution_count": 131,
     "metadata": {},
     "output_type": "execute_result"
    }
   ],
   "source": [
    "np.cov(arr)"
   ]
  },
  {
   "cell_type": "code",
   "execution_count": 134,
   "metadata": {},
   "outputs": [
    {
     "data": {
      "text/plain": [
       "['__name__',\n",
       " '__doc__',\n",
       " '__package__',\n",
       " '__loader__',\n",
       " '__spec__',\n",
       " '__path__',\n",
       " '__file__',\n",
       " '__cached__',\n",
       " '__builtins__',\n",
       " 'division',\n",
       " 'print_function',\n",
       " 'absolute_import',\n",
       " '_distr_params',\n",
       " '_constants',\n",
       " '_distn_infrastructure',\n",
       " '_stats',\n",
       " '_tukeylambda_stats',\n",
       " '_continuous_distns',\n",
       " '_discrete_distns',\n",
       " 'distributions',\n",
       " '_stats_mstats_common',\n",
       " 'mstats_basic',\n",
       " 'stats',\n",
       " 'find_repeats',\n",
       " 'gmean',\n",
       " 'hmean',\n",
       " 'mode',\n",
       " 'tmean',\n",
       " 'tvar',\n",
       " 'tmin',\n",
       " 'tmax',\n",
       " 'tstd',\n",
       " 'tsem',\n",
       " 'moment',\n",
       " 'variation',\n",
       " 'skew',\n",
       " 'kurtosis',\n",
       " 'describe',\n",
       " 'skewtest',\n",
       " 'kurtosistest',\n",
       " 'normaltest',\n",
       " 'jarque_bera',\n",
       " 'itemfreq',\n",
       " 'scoreatpercentile',\n",
       " 'percentileofscore',\n",
       " 'cumfreq',\n",
       " 'relfreq',\n",
       " 'obrientransform',\n",
       " 'sem',\n",
       " 'zmap',\n",
       " 'zscore',\n",
       " 'iqr',\n",
       " 'sigmaclip',\n",
       " 'trimboth',\n",
       " 'trim1',\n",
       " 'trim_mean',\n",
       " 'f_oneway',\n",
       " 'pearsonr',\n",
       " 'fisher_exact',\n",
       " 'spearmanr',\n",
       " 'pointbiserialr',\n",
       " 'kendalltau',\n",
       " 'weightedtau',\n",
       " 'linregress',\n",
       " 'theilslopes',\n",
       " 'ttest_1samp',\n",
       " 'ttest_ind',\n",
       " 'ttest_ind_from_stats',\n",
       " 'ttest_rel',\n",
       " 'kstest',\n",
       " 'chisquare',\n",
       " 'power_divergence',\n",
       " 'ks_2samp',\n",
       " 'mannwhitneyu',\n",
       " 'tiecorrect',\n",
       " 'ranksums',\n",
       " 'kruskal',\n",
       " 'friedmanchisquare',\n",
       " 'rankdata',\n",
       " 'combine_pvalues',\n",
       " 'wasserstein_distance',\n",
       " 'energy_distance',\n",
       " 'entropy',\n",
       " 'rv_discrete',\n",
       " 'rv_continuous',\n",
       " 'rv_histogram',\n",
       " 'ksone',\n",
       " 'kstwobign',\n",
       " 'norm',\n",
       " 'alpha',\n",
       " 'anglit',\n",
       " 'arcsine',\n",
       " 'beta',\n",
       " 'betaprime',\n",
       " 'bradford',\n",
       " 'burr',\n",
       " 'burr12',\n",
       " 'fisk',\n",
       " 'cauchy',\n",
       " 'chi',\n",
       " 'chi2',\n",
       " 'cosine',\n",
       " 'dgamma',\n",
       " 'dweibull',\n",
       " 'expon',\n",
       " 'exponnorm',\n",
       " 'exponweib',\n",
       " 'exponpow',\n",
       " 'fatiguelife',\n",
       " 'foldcauchy',\n",
       " 'f',\n",
       " 'foldnorm',\n",
       " 'weibull_min',\n",
       " 'weibull_max',\n",
       " 'frechet_r',\n",
       " 'frechet_l',\n",
       " 'genlogistic',\n",
       " 'genpareto',\n",
       " 'genexpon',\n",
       " 'genextreme',\n",
       " 'gamma',\n",
       " 'erlang',\n",
       " 'gengamma',\n",
       " 'genhalflogistic',\n",
       " 'gompertz',\n",
       " 'gumbel_r',\n",
       " 'gumbel_l',\n",
       " 'halfcauchy',\n",
       " 'halflogistic',\n",
       " 'halfnorm',\n",
       " 'hypsecant',\n",
       " 'gausshyper',\n",
       " 'invgamma',\n",
       " 'invgauss',\n",
       " 'norminvgauss',\n",
       " 'invweibull',\n",
       " 'johnsonsb',\n",
       " 'johnsonsu',\n",
       " 'laplace',\n",
       " 'levy',\n",
       " 'levy_l',\n",
       " 'levy_stable',\n",
       " 'logistic',\n",
       " 'loggamma',\n",
       " 'loglaplace',\n",
       " 'lognorm',\n",
       " 'gilbrat',\n",
       " 'maxwell',\n",
       " 'mielke',\n",
       " 'kappa4',\n",
       " 'kappa3',\n",
       " 'moyal',\n",
       " 'nakagami',\n",
       " 'ncx2',\n",
       " 'ncf',\n",
       " 't',\n",
       " 'nct',\n",
       " 'pareto',\n",
       " 'lomax',\n",
       " 'pearson3',\n",
       " 'powerlaw',\n",
       " 'powerlognorm',\n",
       " 'powernorm',\n",
       " 'rdist',\n",
       " 'rayleigh',\n",
       " 'reciprocal',\n",
       " 'rice',\n",
       " 'recipinvgauss',\n",
       " 'semicircular',\n",
       " 'skewnorm',\n",
       " 'trapz',\n",
       " 'triang',\n",
       " 'truncexpon',\n",
       " 'truncnorm',\n",
       " 'tukeylambda',\n",
       " 'uniform',\n",
       " 'vonmises',\n",
       " 'vonmises_line',\n",
       " 'wald',\n",
       " 'wrapcauchy',\n",
       " 'gennorm',\n",
       " 'halfgennorm',\n",
       " 'crystalball',\n",
       " 'argus',\n",
       " 'binom',\n",
       " 'bernoulli',\n",
       " 'nbinom',\n",
       " 'geom',\n",
       " 'hypergeom',\n",
       " 'logser',\n",
       " 'poisson',\n",
       " 'planck',\n",
       " 'boltzmann',\n",
       " 'randint',\n",
       " 'zipf',\n",
       " 'dlaplace',\n",
       " 'skellam',\n",
       " 'statlib',\n",
       " 'contingency',\n",
       " 'morestats',\n",
       " 'mvsdist',\n",
       " 'bayes_mvs',\n",
       " 'kstat',\n",
       " 'kstatvar',\n",
       " 'probplot',\n",
       " 'ppcc_max',\n",
       " 'ppcc_plot',\n",
       " 'boxcox_llf',\n",
       " 'boxcox',\n",
       " 'boxcox_normmax',\n",
       " 'boxcox_normplot',\n",
       " 'shapiro',\n",
       " 'anderson',\n",
       " 'ansari',\n",
       " 'bartlett',\n",
       " 'levene',\n",
       " 'binom_test',\n",
       " 'fligner',\n",
       " 'mood',\n",
       " 'wilcoxon',\n",
       " 'median_test',\n",
       " 'circmean',\n",
       " 'circvar',\n",
       " 'circstd',\n",
       " 'anderson_ksamp',\n",
       " '_binned_statistic',\n",
       " 'binned_statistic',\n",
       " 'binned_statistic_2d',\n",
       " 'binned_statistic_dd',\n",
       " 'mvn',\n",
       " 'kde',\n",
       " 'gaussian_kde',\n",
       " 'mstats_extras',\n",
       " 'mstats',\n",
       " 'chi2_contingency',\n",
       " '_multivariate',\n",
       " 'multivariate_normal',\n",
       " 'matrix_normal',\n",
       " 'dirichlet',\n",
       " 'wishart',\n",
       " 'invwishart',\n",
       " 'multinomial',\n",
       " 'special_ortho_group',\n",
       " 'ortho_group',\n",
       " 'random_correlation',\n",
       " 'unitary_group',\n",
       " '__all__',\n",
       " 'test']"
      ]
     },
     "execution_count": 134,
     "metadata": {},
     "output_type": "execute_result"
    }
   ],
   "source": [
    "stats.__dir__()"
   ]
  },
  {
   "cell_type": "code",
   "execution_count": 135,
   "metadata": {},
   "outputs": [
    {
     "data": {
      "text/plain": [
       "0.6666666666666667"
      ]
     },
     "execution_count": 135,
     "metadata": {},
     "output_type": "execute_result"
    }
   ],
   "source": [
    ".4 / (1 - .4)"
   ]
  },
  {
   "cell_type": "code",
   "execution_count": 137,
   "metadata": {},
   "outputs": [
    {
     "data": {
      "text/plain": [
       "0.22388059701492535"
      ]
     },
     "execution_count": 137,
     "metadata": {},
     "output_type": "execute_result"
    }
   ],
   "source": [
    ".15 / .67"
   ]
  },
  {
   "cell_type": "code",
   "execution_count": 138,
   "metadata": {},
   "outputs": [
    {
     "data": {
      "text/plain": [
       "0.8500000000000001"
      ]
     },
     "execution_count": 138,
     "metadata": {},
     "output_type": "execute_result"
    }
   ],
   "source": [
    "(.9 * .5) + (.8 * .5)"
   ]
  },
  {
   "cell_type": "code",
   "execution_count": 139,
   "metadata": {},
   "outputs": [
    {
     "data": {
      "text/plain": [
       "0.5294117647058824"
      ]
     },
     "execution_count": 139,
     "metadata": {},
     "output_type": "execute_result"
    }
   ],
   "source": [
    "(.9 * .5) / .85"
   ]
  },
  {
   "cell_type": "code",
   "execution_count": 141,
   "metadata": {},
   "outputs": [
    {
     "data": {
      "text/plain": [
       "0.35000000000000003"
      ]
     },
     "execution_count": 141,
     "metadata": {},
     "output_type": "execute_result"
    }
   ],
   "source": [
    ".07 / .2"
   ]
  },
  {
   "cell_type": "code",
   "execution_count": 142,
   "metadata": {},
   "outputs": [
    {
     "data": {
      "text/plain": [
       "0.9249999999999999"
      ]
     },
     "execution_count": 142,
     "metadata": {},
     "output_type": "execute_result"
    }
   ],
   "source": [
    "(.95 * .75) + (.85 * .25)"
   ]
  },
  {
   "cell_type": "code",
   "execution_count": 143,
   "metadata": {},
   "outputs": [
    {
     "data": {
      "text/plain": [
       "0.7702702702702702"
      ]
     },
     "execution_count": 143,
     "metadata": {},
     "output_type": "execute_result"
    }
   ],
   "source": [
    "(.95 * .75) / ((.95 * .75) + (.85 * .25))"
   ]
  },
  {
   "cell_type": "code",
   "execution_count": 158,
   "metadata": {},
   "outputs": [],
   "source": [
    "import scipy\n",
    "def combinations(x, y):\n",
    "    return scipy.special.factorial(x) / (scipy.special.factorial(x - y) * scipy.special.factorial(y))"
   ]
  },
  {
   "cell_type": "code",
   "execution_count": 159,
   "metadata": {},
   "outputs": [],
   "source": [
    "def permutations(x, y):\n",
    "    return scipy.special.factorial(x) / scipy.special.factorial(x - y) "
   ]
  },
  {
   "cell_type": "code",
   "execution_count": 163,
   "metadata": {},
   "outputs": [
    {
     "name": "stdout",
     "output_type": "stream",
     "text": [
      "311875200.000000\n",
      "2598960.000000\n"
     ]
    }
   ],
   "source": [
    "print('%f' % permutations(52, 5))\n",
    "print('%f'%combinations(52, 5))"
   ]
  },
  {
   "cell_type": "code",
   "execution_count": 183,
   "metadata": {},
   "outputs": [],
   "source": [
    "def comb_prob(x, nx,y, ny):\n",
    "    xcombs = combinations(nx,x)\n",
    "    ycombs = combinations(ny,y)\n",
    "    xycombs = combinations(nx + ny, x+ y)\n",
    "    print(xcombs * ycombs)\n",
    "    return (xcombs * ycombs) / xycombs"
   ]
  },
  {
   "cell_type": "code",
   "execution_count": 174,
   "metadata": {},
   "outputs": [],
   "source": [
    "def perm_prob(x, nx,y, ny):\n",
    "    xperms = permutations(nx,x)\n",
    "    yperms = permutations(ny,y)\n",
    "    xyperms = permutations(nx + ny, x+ y)\n",
    "    return (xperms * yperms) / xyperms"
   ]
  },
  {
   "cell_type": "code",
   "execution_count": 175,
   "metadata": {},
   "outputs": [
    {
     "data": {
      "text/plain": [
       "23.405199267496084"
      ]
     },
     "execution_count": 175,
     "metadata": {},
     "output_type": "execute_result"
    }
   ],
   "source": [
    "comb_prob(2, 30, 3, 20) *100"
   ]
  },
  {
   "cell_type": "code",
   "execution_count": 176,
   "metadata": {},
   "outputs": [
    {
     "data": {
      "text/plain": [
       "10.601206573746621"
      ]
     },
     "execution_count": 176,
     "metadata": {},
     "output_type": "execute_result"
    }
   ],
   "source": [
    "comb_prob(3, 15, 5, 10) * 100"
   ]
  },
  {
   "cell_type": "code",
   "execution_count": 178,
   "metadata": {},
   "outputs": [
    {
     "data": {
      "text/plain": [
       "14.795918367346944"
      ]
     },
     "execution_count": 178,
     "metadata": {},
     "output_type": "execute_result"
    }
   ],
   "source": [
    "perm_prob(1, 20, 2, 30) * 100"
   ]
  },
  {
   "cell_type": "code",
   "execution_count": 180,
   "metadata": {},
   "outputs": [
    {
     "data": {
      "text/plain": [
       "360.0"
      ]
     },
     "execution_count": 180,
     "metadata": {},
     "output_type": "execute_result"
    }
   ],
   "source": [
    "permutations(6, 4)"
   ]
  },
  {
   "cell_type": "code",
   "execution_count": 182,
   "metadata": {},
   "outputs": [
    {
     "data": {
      "text/plain": [
       "14950.000000000004"
      ]
     },
     "execution_count": 182,
     "metadata": {},
     "output_type": "execute_result"
    }
   ],
   "source": [
    "combinations(26, 4)"
   ]
  },
  {
   "cell_type": "code",
   "execution_count": 214,
   "metadata": {},
   "outputs": [
    {
     "name": "stdout",
     "output_type": "stream",
     "text": [
      "3898440.0\n",
      "3898440.0\n",
      "0.2807833619846967\n"
     ]
    }
   ],
   "source": [
    "print(combinations(15, 3) * combinations(18, 5))\n",
    "print(comb_prob(3, 15, 5, 18))"
   ]
  },
  {
   "cell_type": "code",
   "execution_count": 188,
   "metadata": {},
   "outputs": [],
   "source": [
    "arr_str = np.array([1, 2, 3, 1, 2, 4])"
   ]
  },
  {
   "cell_type": "code",
   "execution_count": 189,
   "metadata": {},
   "outputs": [],
   "source": [
    "from sklearn.preprocessing import OneHotEncoder"
   ]
  },
  {
   "cell_type": "code",
   "execution_count": 191,
   "metadata": {},
   "outputs": [],
   "source": [
    "#enc = OneHotEncoder()\n",
    "#enc.fit(arr_str)"
   ]
  },
  {
   "cell_type": "code",
   "execution_count": 192,
   "metadata": {},
   "outputs": [
    {
     "data": {
      "text/plain": [
       "['__name__',\n",
       " '__doc__',\n",
       " '__package__',\n",
       " '__loader__',\n",
       " '__spec__',\n",
       " '__path__',\n",
       " '__file__',\n",
       " '__cached__',\n",
       " '__builtins__',\n",
       " 'division',\n",
       " 'absolute_import',\n",
       " 'print_function',\n",
       " 'info',\n",
       " 'lapack_lite',\n",
       " '_umath_linalg',\n",
       " 'linalg',\n",
       " 'matrix_power',\n",
       " 'solve',\n",
       " 'tensorsolve',\n",
       " 'tensorinv',\n",
       " 'inv',\n",
       " 'cholesky',\n",
       " 'eigvals',\n",
       " 'eigvalsh',\n",
       " 'pinv',\n",
       " 'slogdet',\n",
       " 'det',\n",
       " 'svd',\n",
       " 'eig',\n",
       " 'eigh',\n",
       " 'lstsq',\n",
       " 'norm',\n",
       " 'qr',\n",
       " 'cond',\n",
       " 'matrix_rank',\n",
       " 'LinAlgError',\n",
       " 'multi_dot',\n",
       " 'test']"
      ]
     },
     "execution_count": 192,
     "metadata": {},
     "output_type": "execute_result"
    }
   ],
   "source": [
    "np.linalg.__dir__()"
   ]
  },
  {
   "cell_type": "code",
   "execution_count": 193,
   "metadata": {},
   "outputs": [
    {
     "data": {
      "text/plain": [
       "11.64817582284883"
      ]
     },
     "execution_count": 193,
     "metadata": {},
     "output_type": "execute_result"
    }
   ],
   "source": [
    "np.sqrt(np.sum(arr**2))"
   ]
  },
  {
   "cell_type": "code",
   "execution_count": 194,
   "metadata": {},
   "outputs": [],
   "source": [
    "z = np.array([-1, 1, 3, 5])"
   ]
  },
  {
   "cell_type": "code",
   "execution_count": 195,
   "metadata": {},
   "outputs": [
    {
     "data": {
      "text/plain": [
       "6.0"
      ]
     },
     "execution_count": 195,
     "metadata": {},
     "output_type": "execute_result"
    }
   ],
   "source": [
    "np.sqrt(np.sum(z**2))"
   ]
  },
  {
   "cell_type": "code",
   "execution_count": 196,
   "metadata": {},
   "outputs": [
    {
     "data": {
      "text/plain": [
       "6.0"
      ]
     },
     "execution_count": 196,
     "metadata": {},
     "output_type": "execute_result"
    }
   ],
   "source": [
    "np.linalg.norm(z)"
   ]
  },
  {
   "cell_type": "code",
   "execution_count": 198,
   "metadata": {},
   "outputs": [
    {
     "data": {
      "text/plain": [
       "1.0"
      ]
     },
     "execution_count": 198,
     "metadata": {},
     "output_type": "execute_result"
    }
   ],
   "source": [
    "znormed = z / np.linalg.norm(z)\n",
    "np.sqrt(np.sum(znormed**2))"
   ]
  },
  {
   "cell_type": "code",
   "execution_count": 199,
   "metadata": {},
   "outputs": [
    {
     "data": {
      "text/plain": [
       "1.0"
      ]
     },
     "execution_count": 199,
     "metadata": {},
     "output_type": "execute_result"
    }
   ],
   "source": [
    "np.linalg.norm(znormed)"
   ]
  },
  {
   "cell_type": "code",
   "execution_count": 200,
   "metadata": {},
   "outputs": [
    {
     "data": {
      "text/plain": [
       "5.0"
      ]
     },
     "execution_count": 200,
     "metadata": {},
     "output_type": "execute_result"
    }
   ],
   "source": [
    "np.linalg.norm((3, 4))"
   ]
  },
  {
   "cell_type": "code",
   "execution_count": 202,
   "metadata": {},
   "outputs": [],
   "source": [
    "x=(3,-2,5)\n",
    "y=(4,11,2)"
   ]
  },
  {
   "cell_type": "code",
   "execution_count": 203,
   "metadata": {},
   "outputs": [
    {
     "data": {
      "text/plain": [
       "0"
      ]
     },
     "execution_count": 203,
     "metadata": {},
     "output_type": "execute_result"
    }
   ],
   "source": [
    "np.dot(x, y)"
   ]
  },
  {
   "cell_type": "code",
   "execution_count": 205,
   "metadata": {},
   "outputs": [
    {
     "data": {
      "text/plain": [
       "array([[-1.,  3.],\n",
       "       [ 0.,  4.]])"
      ]
     },
     "execution_count": 205,
     "metadata": {},
     "output_type": "execute_result"
    }
   ],
   "source": [
    "0.5 * np.array([8,10,2,2]).reshape(2,2) - np.array([5, 2, 1, -3]).reshape(2,2)"
   ]
  },
  {
   "cell_type": "code",
   "execution_count": 209,
   "metadata": {},
   "outputs": [
    {
     "data": {
      "text/plain": [
       "array([[22, 28],\n",
       "       [49, 64]])"
      ]
     },
     "execution_count": 209,
     "metadata": {},
     "output_type": "execute_result"
    }
   ],
   "source": [
    "np.array([[1,2, 3],[4, 5, 6]]) @ np.array([[1,3, 5],[2, 4, 6]]).T"
   ]
  },
  {
   "cell_type": "code",
   "execution_count": 210,
   "metadata": {},
   "outputs": [
    {
     "name": "stdout",
     "output_type": "stream",
     "text": [
      "Variable        Type                Data/Info\n",
      "---------------------------------------------\n",
      "A               DataFrame                  stat0      stat1  <...>853  88.554482  66.497501\n",
      "OneHotEncoder   type                <class 'sklearn.preproces<...>sing.data.OneHotEncoder'>\n",
      "V               ndarray             5x5: 25 elems, type `float64`, 200 bytes\n",
      "a               ndarray             4x5: 20 elems, type `float64`, 160 bytes\n",
      "arr             ndarray             3x2: 6 elems, type `float64`, 48 bytes\n",
      "arr2            ndarray             4: 4 elems, type `int32`, 16 bytes\n",
      "arr3            ndarray             5: 5 elems, type `int32`, 20 bytes\n",
      "arr4            ndarray             3: 3 elems, type `int32`, 12 bytes\n",
      "arr5            ndarray             3: 3 elems, type `int32`, 12 bytes\n",
      "arr_mean        float64             8.0\n",
      "arr_std         float64             4.898979485566356\n",
      "arr_str         ndarray             6: 6 elems, type `int32`, 24 bytes\n",
      "ata             ndarray             5x5: 25 elems, type `float64`, 200 bytes\n",
      "clean_pcts      function            <function clean_pcts at 0x000002BFB8BFE488>\n",
      "comb_prob       function            <function comb_prob at 0x000002C01497BF28>\n",
      "combinations    function            <function combinations at 0x000002C014889048>\n",
      "cov_qual_mat    DataFrame                         0          <...>037 rows x 13037 columns]\n",
      "cross           DataFrame                         stat0      <...> 8771.208704  8061.088659\n",
      "data            DataFrame                  Season            <...>[89884 rows x 23 columns]\n",
      "dev             DataFrame                  stat0      stat1  <...>771  46.580455  25.078537\n",
      "econ            DataFrame              Growth  S&P500Returns\\<...>n2     3.6             13\n",
      "eigvals         ndarray             5: 5 elems, type `float64`, 40 bytes\n",
      "eigvecs         ndarray             5x5: 25 elems, type `float64`, 200 bytes\n",
      "enc             OneHotEncoder       OneHotEncoder(categorical<...>lues='auto', sparse=True)\n",
      "exp3            float64             1.0999999999999999\n",
      "i               str                 K%\n",
      "m               int                 5\n",
      "mask            Series              0         True\\n1        <...>ength: 89884, dtype: bool\n",
      "means           DataFrame                  stat0      stat1  <...>623  41.974026  41.418964\n",
      "n               int                 4\n",
      "np              module              <module 'numpy' from 'C:\\<...>ges\\\\numpy\\\\__init__.py'>\n",
      "ones            ndarray             4x1: 4 elems, type `float64`, 32 bytes\n",
      "optimize        module              <module 'scipy.optimize' <...>\\\\optimize\\\\__init__.py'>\n",
      "pb              ndarray             4: 4 elems, type `float64`, 32 bytes\n",
      "pb2             ndarray             6: 6 elems, type `float64`, 48 bytes\n",
      "pb3             ndarray             4: 4 elems, type `float64`, 32 bytes\n",
      "pd              module              <module 'pandas' from 'C:<...>es\\\\pandas\\\\__init__.py'>\n",
      "perm_prob       function            <function perm_prob at 0x000002C01481CAE8>\n",
      "permutations    function            <function permutations at 0x000002C0148899D8>\n",
      "pgp             DataFrameGroupBy    <pandas.core.groupby.gene<...>ct at 0x000002BFBA8CA940>\n",
      "plt             module              <module 'matplotlib.pyplo<...>\\\\matplotlib\\\\pyplot.py'>\n",
      "prob            function            <function prob at 0x000002C01497B6A8>\n",
      "qual            int                 502\n",
      "qual_data       DataFrame                    G   PA  HR    R <...>[13037 rows x 20 columns]\n",
      "res             OptimizeResult            fun: -1269865038.78<...>18e+08, -3.08719142e+07])\n",
      "scipy           module              <module 'scipy' from 'C:\\<...>ges\\\\scipy\\\\__init__.py'>\n",
      "sdev            float64             1.044030650891055\n",
      "sns             module              <module 'seaborn' from 'C<...>s\\\\seaborn\\\\__init__.py'>\n",
      "stats           module              <module 'scipy.stats' fro<...>ipy\\\\stats\\\\__init__.py'>\n",
      "var             float64             1.09\n",
      "x               tuple               n=3\n",
      "x2              ndarray             6: 6 elems, type `int32`, 24 bytes\n",
      "y               tuple               n=3\n",
      "z               ndarray             4: 4 elems, type `int32`, 16 bytes\n",
      "znormed         ndarray             4: 4 elems, type `float64`, 32 bytes\n"
     ]
    }
   ],
   "source": [
    "%whos"
   ]
  },
  {
   "cell_type": "code",
   "execution_count": null,
   "metadata": {},
   "outputs": [],
   "source": []
  }
 ],
 "metadata": {
  "kernelspec": {
   "display_name": "Python 3",
   "language": "python",
   "name": "python3"
  },
  "language_info": {
   "codemirror_mode": {
    "name": "ipython",
    "version": 3
   },
   "file_extension": ".py",
   "mimetype": "text/x-python",
   "name": "python",
   "nbconvert_exporter": "python",
   "pygments_lexer": "ipython3",
   "version": "3.6.5"
  }
 },
 "nbformat": 4,
 "nbformat_minor": 4
}
