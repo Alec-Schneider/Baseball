{
 "cells": [
  {
   "cell_type": "code",
   "execution_count": 1,
   "metadata": {},
   "outputs": [],
   "source": [
    "import pandas as pd\n",
    "import numpy as np\n",
    "import matplotlib.pyplot as plt\n",
    "%matplotlib inline"
   ]
  },
  {
   "cell_type": "code",
   "execution_count": 7,
   "metadata": {},
   "outputs": [
    {
     "data": {
      "text/plain": [
       "Name         object\n",
       "Team         object\n",
       "G             int64\n",
       "AB            int64\n",
       "PA            int64\n",
       "H             int64\n",
       "1B            int64\n",
       "2B            int64\n",
       "3B            int64\n",
       "HR            int64\n",
       "R             int64\n",
       "RBI           int64\n",
       "BB            int64\n",
       "IBB           int64\n",
       "SO            int64\n",
       "HBP           int64\n",
       "SF            int64\n",
       "SH            int64\n",
       "GDP           int64\n",
       "SB            int64\n",
       "CS            int64\n",
       "AVG         float64\n",
       "playerid      int64\n",
       "dtype: object"
      ]
     },
     "execution_count": 7,
     "metadata": {},
     "output_type": "execute_result"
    }
   ],
   "source": [
    "sd = pd.read_csv('./2019/2019Standard.csv')\n",
    "sd.dtypes"
   ]
  },
  {
   "cell_type": "code",
   "execution_count": 21,
   "metadata": {},
   "outputs": [
    {
     "data": {
      "text/plain": [
       "Name         object\n",
       "Team         object\n",
       "PA            int64\n",
       "BB%          object\n",
       "K%           object\n",
       "BB/K        float64\n",
       "AVG         float64\n",
       "OBP         float64\n",
       "SLG         float64\n",
       "OPS         float64\n",
       "ISO         float64\n",
       "Spd         float64\n",
       "BABIP       float64\n",
       "UBR         float64\n",
       "wGDP        float64\n",
       "wSB         float64\n",
       "wRC           int64\n",
       "wRAA        float64\n",
       "wOBA        float64\n",
       "wRC+        float64\n",
       "playerid      int64\n",
       "dtype: object"
      ]
     },
     "execution_count": 21,
     "metadata": {},
     "output_type": "execute_result"
    }
   ],
   "source": [
    "adv = pd.read_csv('./2019/2019Advanced.csv')\n",
    "adv.dtypes"
   ]
  },
  {
   "cell_type": "code",
   "execution_count": 11,
   "metadata": {},
   "outputs": [],
   "source": [
    "adv['K%'].apply\n",
    "adv['BB%']"
   ]
  },
  {
   "cell_type": "code",
   "execution_count": 28,
   "metadata": {},
   "outputs": [
    {
     "data": {
      "text/plain": [
       "'C:\\\\Users\\\\afs95\\\\MyPython\\\\Baseball\\\\data'"
      ]
     },
     "execution_count": 28,
     "metadata": {},
     "output_type": "execute_result"
    }
   ],
   "source": [
    "import os\n",
    "os.getcwd()"
   ]
  },
  {
   "cell_type": "code",
   "execution_count": 29,
   "metadata": {},
   "outputs": [
    {
     "ename": "ValueError",
     "evalue": "attempted relative import beyond top-level package",
     "output_type": "error",
     "traceback": [
      "\u001b[1;31m---------------------------------------------------------------------------\u001b[0m",
      "\u001b[1;31mValueError\u001b[0m                                Traceback (most recent call last)",
      "\u001b[1;32m<ipython-input-29-637a5aef6b31>\u001b[0m in \u001b[0;36m<module>\u001b[1;34m()\u001b[0m\n\u001b[1;32m----> 1\u001b[1;33m \u001b[1;32mfrom\u001b[0m \u001b[1;33m.\u001b[0m\u001b[1;33m.\u001b[0m\u001b[0mBfuncs\u001b[0m \u001b[1;32mimport\u001b[0m \u001b[0mclean_pcts\u001b[0m\u001b[1;33m\u001b[0m\u001b[0m\n\u001b[0m",
      "\u001b[1;31mValueError\u001b[0m: attempted relative import beyond top-level package"
     ]
    }
   ],
   "source": [
    "from ..Bfuncs import clean_pcts"
   ]
  },
  {
   "cell_type": "code",
   "execution_count": 20,
   "metadata": {},
   "outputs": [
    {
     "data": {
      "text/plain": [
       "Name         object\n",
       "Team         object\n",
       "PA            int64\n",
       "BB%          object\n",
       "K%           object\n",
       "BB/K        float64\n",
       "AVG         float64\n",
       "OBP         float64\n",
       "SLG         float64\n",
       "OPS         float64\n",
       "ISO         float64\n",
       "Spd         float64\n",
       "BABIP       float64\n",
       "UBR         float64\n",
       "wGDP        float64\n",
       "wSB         float64\n",
       "wRC           int64\n",
       "wRAA        float64\n",
       "wOBA        float64\n",
       "wRC+        float64\n",
       "playerid      int64\n",
       "dtype: object"
      ]
     },
     "execution_count": 20,
     "metadata": {},
     "output_type": "execute_result"
    }
   ],
   "source": [
    "adv = pd.read_csv('./2019/2019Advanced.csv')\n",
    "adv.dtypes"
   ]
  },
  {
   "cell_type": "code",
   "execution_count": 19,
   "metadata": {},
   "outputs": [
    {
     "data": {
      "text/plain": [
       "0       0.0\n",
       "1       0.0\n",
       "2       0.0\n",
       "3       0.0\n",
       "4       0.0\n",
       "       ... \n",
       "1405    0.0\n",
       "1406    1.0\n",
       "1407    0.5\n",
       "1408    0.0\n",
       "1409    0.0\n",
       "Name: K%, Length: 1410, dtype: float64"
      ]
     },
     "execution_count": 19,
     "metadata": {},
     "output_type": "execute_result"
    }
   ],
   "source": [
    "adv['K%'].apply(convert_percent)"
   ]
  },
  {
   "cell_type": "code",
   "execution_count": null,
   "metadata": {},
   "outputs": [],
   "source": []
  }
 ],
 "metadata": {
  "kernelspec": {
   "display_name": "Python 3",
   "language": "python",
   "name": "python3"
  },
  "language_info": {
   "codemirror_mode": {
    "name": "ipython",
    "version": 3
   },
   "file_extension": ".py",
   "mimetype": "text/x-python",
   "name": "python",
   "nbconvert_exporter": "python",
   "pygments_lexer": "ipython3",
   "version": "3.6.5"
  }
 },
 "nbformat": 4,
 "nbformat_minor": 2
}
